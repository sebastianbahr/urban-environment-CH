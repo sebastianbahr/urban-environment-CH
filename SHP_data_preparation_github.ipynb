{
 "cells": [
  {
   "cell_type": "markdown",
   "id": "256c5622-091a-4e59-be3b-0b6ea658bbd0",
   "metadata": {},
   "source": [
    "# SHP data preparation"
   ]
  },
  {
   "cell_type": "code",
   "execution_count": 1,
   "id": "5e48b165-63a1-42ee-84bb-cb76911769a7",
   "metadata": {},
   "outputs": [
    {
     "name": "stderr",
     "output_type": "stream",
     "text": [
      "C:\\Users\\bahr\\Anaconda3\\lib\\site-packages\\pandas\\core\\computation\\expressions.py:21: UserWarning: Pandas requires version '2.8.0' or newer of 'numexpr' (version '2.7.3' currently installed).\n",
      "  from pandas.core.computation.check import NUMEXPR_INSTALLED\n",
      "C:\\Users\\bahr\\Anaconda3\\lib\\site-packages\\pandas\\core\\arrays\\masked.py:62: UserWarning: Pandas requires version '1.3.4' or newer of 'bottleneck' (version '1.3.2' currently installed).\n",
      "  from pandas.core import (\n"
     ]
    }
   ],
   "source": [
    "import pandas as pd\n",
    "import geopandas as gpd\n",
    "import numpy as np\n",
    "import math\n",
    "import random\n",
    "import cv2\n",
    "import os\n",
    "from scipy.stats import ttest_ind\n",
    "from scipy import stats\n",
    "from scipy.stats import pearsonr\n",
    "from skimage import io\n",
    "from pyproj import Geod\n",
    "import matplotlib as mpl\n",
    "import matplotlib.pyplot as plt\n",
    "import seaborn as sns"
   ]
  },
  {
   "cell_type": "markdown",
   "id": "0278ebfe-5323-45f9-9937-310e770057e3",
   "metadata": {},
   "source": [
    "This file prepare the SHP survey data for further analysis."
   ]
  },
  {
   "cell_type": "code",
   "execution_count": 1,
   "id": "31dbbd9d-326b-4914-bbb5-4026c91c2a2d",
   "metadata": {},
   "outputs": [],
   "source": [
    "# Set up dir\n",
    "\n",
    "dir_h = \"YOUR_DIRECTORY/\""
   ]
  },
  {
   "cell_type": "markdown",
   "id": "a696d36a-853d-466c-9b26-bee6f55e091c",
   "metadata": {},
   "source": [
    "## SHP W23 September 2021 - March 2022"
   ]
  },
  {
   "cell_type": "code",
   "execution_count": 3,
   "id": "3a5101b3-f80f-433b-956e-b5a56a127537",
   "metadata": {},
   "outputs": [
    {
     "name": "stderr",
     "output_type": "stream",
     "text": [
      "C:\\Users\\bahr\\Anaconda3\\lib\\site-packages\\openpyxl\\worksheet\\header_footer.py:48: UserWarning: Cannot parse header or footer so it will be ignored\n",
      "  warn(\"\"\"Cannot parse header or footer so it will be ignored\"\"\")\n"
     ]
    }
   ],
   "source": [
    "shp21_p = pd.read_stata(dir_h + \"shp21_p_user.dta\", preserve_dtypes=False, convert_categoricals=False)\n",
    "shp21_h = pd.read_stata(dir_h + \"shp21_h_user.dta\", preserve_dtypes=False, convert_categoricals=False)\n",
    "shp21_geo = pd.read_csv(dir_h + \"shpgeo21.csv\")\n",
    "ch_postcode_population = pd.read_excel(dir_h + \"population_postcode_CH.xlsx\")"
   ]
  },
  {
   "cell_type": "markdown",
   "id": "ec1a722a-c3e2-4f9d-8877-4f144739124d",
   "metadata": {},
   "source": [
    "### Merge geo and population information to household data"
   ]
  },
  {
   "cell_type": "markdown",
   "id": "6e26f815-b25e-4219-8ec6-315dd49c4360",
   "metadata": {},
   "source": [
    "Remove duplicate household ids"
   ]
  },
  {
   "cell_type": "code",
   "execution_count": 4,
   "id": "d02f2abe-cd56-45ee-a5cb-860e59dd8f76",
   "metadata": {},
   "outputs": [
    {
     "data": {
      "text/plain": [
       "8422"
      ]
     },
     "execution_count": 4,
     "metadata": {},
     "output_type": "execute_result"
    }
   ],
   "source": [
    "shp21_geo = shp21_geo.drop_duplicates(subset=\"idhous21\")\n",
    "len(shp21_geo)"
   ]
  },
  {
   "cell_type": "markdown",
   "id": "d167c2b0-dc7f-435b-adc8-0ca1d85f8e07",
   "metadata": {},
   "source": [
    "Merge household with geo data"
   ]
  },
  {
   "cell_type": "code",
   "execution_count": 5,
   "id": "fa8b81a8-821b-46a9-b574-8333c2c86440",
   "metadata": {},
   "outputs": [],
   "source": [
    "shp21_h = shp21_h.merge(shp21_geo, how=\"left\", on=\"idhous21\")"
   ]
  },
  {
   "cell_type": "markdown",
   "id": "5762a3f0-8546-46c2-935e-3ce15380f553",
   "metadata": {},
   "source": [
    "Merge household with geo and population data"
   ]
  },
  {
   "cell_type": "code",
   "execution_count": 6,
   "id": "d0d83cff-d0dd-4586-9102-66b2054975c8",
   "metadata": {},
   "outputs": [],
   "source": [
    "shp21_h = shp21_h.merge(ch_postcode_population, left_on=\"npa\", right_on=\"postcode\", how=\"left\")"
   ]
  },
  {
   "cell_type": "markdown",
   "id": "73711f03-61f3-4649-8fb6-919e7bf15be6",
   "metadata": {},
   "source": [
    "### Merge household with individual data"
   ]
  },
  {
   "cell_type": "code",
   "execution_count": 7,
   "id": "4fe3b445-daa3-49fd-b468-bdf160ccf4b4",
   "metadata": {},
   "outputs": [],
   "source": [
    "shp21 = shp21_p.merge(shp21_h, how=\"left\", on=\"idhous21\")"
   ]
  },
  {
   "cell_type": "markdown",
   "id": "9e4a5dcb-3b2f-4db6-840c-6457a94e072e",
   "metadata": {},
   "source": [
    "### Generate individual level data set "
   ]
  },
  {
   "cell_type": "code",
   "execution_count": 8,
   "id": "da27e901-b375-4f19-9858-b67306d447ab",
   "metadata": {},
   "outputs": [],
   "source": [
    "shp21 = shp21[[\"idpers\", \"idhous21\", \"npa\", \"g_lat\", \"g_lon\", \"population\",\n",
    "               \"pdate21\", \"i21eqon\", \"i21ptotn\", \"ownkid21\", \"nbkid21\", \"age21\",\n",
    "              \"p21c01\", \"p21c02\", \"civsta21\", \"wstat21\", \"edyear21\",\n",
    "              \"p21w39\", \"p21w42\", \"p21w34a\", \"occupa21\", \"sex21\", \"h21h27\", \n",
    "               \"h21h28\",\"p21c44\", \"com2_21\", \"h21h15\", \"h21i02\", \"h21h37\",\n",
    "               \"h21h12\", \"hldtyp21\", \"h21h29\", \"educat21\", \"p21c17\", \"p21c18\",\n",
    "              \"p21c184\", \"p21a01\", \"p21a04\", \"p21ql04\"]]"
   ]
  },
  {
   "cell_type": "code",
   "execution_count": 9,
   "id": "69998a75-6740-4267-b3f7-8deb7377c163",
   "metadata": {},
   "outputs": [],
   "source": [
    "shp21[\"n_hhmembers_18_14\"] = shp21.groupby(\"idhous21\").age21.transform(lambda x: np.sum(np.where(x < 18,1,0)))\n",
    "shp21[\"n_hhmembers_o14\"] = shp21.groupby(\"idhous21\").age21.transform(lambda x: np.sum(np.where(x > 14,1,0)))\n",
    "shp21[\"n_hhmembers_u14\"] = shp21.groupby(\"idhous21\").age21.transform(lambda x: np.sum(np.where(x <= 14,1,0)))\n",
    "shp21[\"n_hhmembers_u14\"] = np.where(shp21.nbkid21 > shp21.n_hhmembers_18_14, shp21.n_hhmembers_u14 + (shp21.nbkid21-shp21.n_hhmembers_18_14), shp21.n_hhmembers_u14)\n",
    "\n",
    "shp21[\"CH_region\"] = np.where(shp21.npa < 3000, 0,\n",
    "                             np.where((shp21.npa >= 6000) & (shp21.npa < 7000), 1, 2))\n",
    "shp21[\"workload\"] = np.where(shp21.p21w39==2, 100, \n",
    "                             np.where(~shp21.occupa21.isin([1, 2, 3]), 0, shp21.p21w42))\n",
    "shp21[\"position\"] = np.where(~shp21.occupa21.isin([1, 2, 3]), 5, shp21.p21w34a) # not in work force is recoded to 5\n",
    "shp21[\"pers_income\"] = np.where(shp21.occupa21.isin([4, 6, 7, 11]), 0, shp21.i21ptotn)"
   ]
  },
  {
   "cell_type": "markdown",
   "id": "60c1ce1d-8ba5-4ffc-b995-4b5b5ce6f4cb",
   "metadata": {},
   "source": [
    "Set negative values to missings"
   ]
  },
  {
   "cell_type": "code",
   "execution_count": 10,
   "id": "51a33ae8-5067-4131-8f2f-b2f0b8b4e67a",
   "metadata": {},
   "outputs": [],
   "source": [
    "hh_type_map = {1:0,\n",
    "               2:0,\n",
    "               3:0,\n",
    "               4:1,\n",
    "               5:1,\n",
    "               6:0,\n",
    "               7:0,\n",
    "               8:1,\n",
    "               9:1,\n",
    "               10:1,\n",
    "               11:1,\n",
    "               12:0,\n",
    "               13:0}\n",
    "shp21 = shp21.assign(hh_type = shp21.hldtyp21.map(hh_type_map))"
   ]
  },
  {
   "cell_type": "code",
   "execution_count": 11,
   "id": "b7b3f4a7-2a97-4bae-8ed3-bcb6d32a54ab",
   "metadata": {},
   "outputs": [],
   "source": [
    "shp21[\"hh_eq_income\"] = np.where(shp21.i21eqon < 0, np.NAN, shp21.i21eqon)\n",
    "shp21[\"pers_income\"] = np.where(shp21.pers_income == -4, 0,\n",
    "                                np.where(shp21.pers_income.isin([-8, -3, -2, -1]), np.NAN, shp21.pers_income))\n",
    "shp21[\"nchildren\"] = np.where(shp21.ownkid21 < 0, 0, shp21.ownkid21)\n",
    "shp21[\"age\"] = np.where(shp21.age21 < 0, np.NAN, shp21.age21) \n",
    "shp21[\"health\"] = np.where(shp21.p21c01 < 1, np.NAN, shp21.p21c01)\n",
    "shp21[\"healthsat\"] = np.where(shp21.p21c02 < 0, np.NAN, shp21.p21c02)\n",
    "shp21[\"civstat\"] = np.where(shp21.civsta21 < 1, np.NAN, shp21.civsta21)\n",
    "shp21[\"wstat\"] = np.where(shp21.wstat21 < 0, np.NAN, shp21.wstat21) \n",
    "shp21[\"edyear\"] = np.where(shp21.edyear21 < 0, np.NAN, shp21.edyear21) \n",
    "shp21[\"educat\"] = np.where(shp21.educat21 < 0, np.NAN, shp21.educat21) \n",
    "shp21[\"workload\"] = np.where(shp21.workload < 0, -1, shp21.workload)  # impute missings with -1 and generate missing dummy\n",
    "shp21[\"workload_mis\"] = np.where(shp21.workload < 0, 1, 0)\n",
    "shp21[\"position\"] = np.where(shp21.position < 1, -1, shp21.position) # impute missings with -1 and generate missing dummy\n",
    "shp21[\"position_mis\"] = np.where(shp21.position < 1, 1, 0)\n",
    "shp21[\"occupa\"] = np.where(shp21.occupa21 < 1, -1, shp21.occupa21) # impute missings with -1 and generate missing dummy\n",
    "shp21[\"occupa_mis\"] = np.where(shp21.occupa < 1, 1, 0)\n",
    "shp21[\"sex\"] = np.where(shp21.sex21==2, 1, 0)\n",
    "shp21[\"prob_env\"] = np.where(shp21.h21h27 < 1, np.NAN, shp21.h21h27) \n",
    "shp21[\"prob_crime\"] = np.where(shp21.h21h28 < 1, np.NAN, shp21.h21h28) \n",
    "shp21[\"community_type\"] = np.where(shp21.com2_21 < 1, np.NAN, shp21.com2_21) \n",
    "shp21[\"residence_type\"] = np.where(shp21.h21h15 < 1, np.NAN, shp21.h21h15)  \n",
    "shp21[\"garden_terrace\"] = np.where(shp21.h21i02 < 1, np.NAN, shp21.h21i02)\n",
    "shp21[\"accommodation_exp\"] = np.where(((shp21.h21h37 < 1) | (shp21.h21h37 > 10000)), np.NAN, shp21.h21h37)\n",
    "shp21[\"accommodation_exp_log\"] = np.log(shp21.accommodation_exp+1)\n",
    "shp21[\"accommodation_sat\"] = np.where(shp21.h21h12 < 1, np.NAN, shp21.h21h12)\n",
    "shp21[\"owner\"] = np.where(shp21.h21h29 == 2, 1, \n",
    "                          np.where(shp21.h21h29.isin([1, 3]), 0, np.NAN))\n",
    "shp21[\"lifesat\"] = np.where(shp21.p21c44 < 0, np.NAN, shp21.p21c44) \n",
    "\n",
    "shp21[\"n_hhmembers_u5\"] = shp21.groupby(\"idhous21\").age21.transform(lambda x: np.sum(np.where(x <= 4,1,0)))\n",
    "shp21[\"n_hhmembers_17_5\"] = shp21.groupby(\"idhous21\").age21.transform(lambda x: np.sum(np.where(((x > 4) & (x < 18)),1,0)))\n",
    "shp21[\"nchildren_hh\"] = shp21.groupby(\"idhous21\").nchildren.transform(\"max\")\n",
    "shp21[\"nchildren\"] = np.where(((shp21.ownkid21 < 0) & (shp21.age < 25)), 0,\n",
    "                              np.where(((shp21.ownkid21 < 0) & (shp21.age > 25) & (shp21.hh_type==1)), shp21.nchildren_hh, \n",
    "                                      np.where(((shp21.ownkid21 < 0) & (shp21.age > 25) & (shp21.hh_type==0)), 0, \n",
    "                                               np.where(shp21.ownkid21 >=0, shp21.ownkid21, np.NaN))))\n",
    "\n",
    "shp21[\"n_children_u5\"] = np.where(shp21.nchildren > 0, shp21.n_hhmembers_u5, 0)\n",
    "shp21[\"n_children_17_5\"] = np.where(shp21.nchildren > 0, shp21.n_hhmembers_17_5, 0)\n",
    "shp21[\"nchildren\"] = np.where(shp21.nchildren < shp21.n_children_u5 + shp21.n_children_17_5, shp21.n_children_u5 + shp21.n_children_17_5, shp21.nchildren)\n",
    "shp21[\"n_children_o17\"] = shp21.nchildren - shp21.n_children_u5 - shp21.n_children_17_5\n",
    "shp21[\"depression\"] = np.where(shp21.p21c17 < 0, np.NAN, shp21.p21c17)\n",
    "shp21[\"optimism\"] = np.where(shp21.p21c18 < 0, np.NAN, shp21.p21c18)\n",
    "shp21[\"stress\"] = np.where(shp21.p21c184 < 0, np.NAN, shp21.p21c184)\n",
    "shp21[\"relationship_sat\"] = np.where(shp21.p21ql04 < 0, np.NAN, shp21.p21ql04)\n",
    "shp21[\"sport\"] = np.where(shp21.p21a01 == 2, 0,\n",
    "                         np.where((shp21.p21a01 == 1) & (shp21.p21a04 > 0), shp21.p21a04, np.NAN))\n"
   ]
  },
  {
   "cell_type": "markdown",
   "id": "6b6f4922-ab42-4919-b9b8-c7676ae19696",
   "metadata": {},
   "source": [
    "Save variables for income imputation"
   ]
  },
  {
   "cell_type": "code",
   "execution_count": 12,
   "id": "89c62f30-948d-4acb-8606-91073943a00c",
   "metadata": {},
   "outputs": [],
   "source": [
    "income_imp = shp21[[\"idpers\", \"pers_income\", \"age\", \"edyear\", \"sex\", \"occupa\", \"occupa_mis\", \"workload\", \"workload_mis\",\"position\", \"position_mis\", \"CH_region\", \"g_lat\", \"g_lon\"]]\n",
    "income_imp.to_pickle(dir_h + \"income_imp.pkl\")"
   ]
  },
  {
   "cell_type": "markdown",
   "id": "a3dfaa5f-8c29-4120-b643-ffed8ece335a",
   "metadata": {},
   "source": [
    "=> proceede with file ```pers_income_imputation.ipynb```"
   ]
  },
  {
   "cell_type": "markdown",
   "id": "37f57718-586d-4f2e-9770-6d5db8e9c1a5",
   "metadata": {},
   "source": [
    "Load imputed income data and add it to existing data."
   ]
  },
  {
   "cell_type": "code",
   "execution_count": 13,
   "id": "c6101647-98d7-4bcf-8356-14fa36384c00",
   "metadata": {},
   "outputs": [],
   "source": [
    "income_imputed = pd.read_pickle(dir_h + \"income_imputed.pkl\")\n",
    "shp21 = shp21.merge(income_imputed, how=\"left\", on=\"idpers\")"
   ]
  },
  {
   "cell_type": "markdown",
   "id": "7128d98a-f2e5-4375-86c6-62a3a8bada4c",
   "metadata": {},
   "source": [
    "Calculate household equivalent income by the modified OECD scale."
   ]
  },
  {
   "cell_type": "code",
   "execution_count": 14,
   "id": "e73f3ea6-2e5b-4f68-8356-e9f205f74f7c",
   "metadata": {},
   "outputs": [],
   "source": [
    "def oecd_hhmembers(data_1, data_2):\n",
    "    if data_1 > 1:\n",
    "        hhmembers = 1 + ((data_1-1)*0.5) + (data_2*0.3)\n",
    "    elif data_1 == 1:\n",
    "        hhmembers = 1 + (data_2*0.3)\n",
    "    else:\n",
    "        raise Warning(\"does not work\")\n",
    "        \n",
    "    return hhmembers"
   ]
  },
  {
   "cell_type": "code",
   "execution_count": 15,
   "id": "1a650421-f42e-4db9-aca3-98159c45f4aa",
   "metadata": {},
   "outputs": [],
   "source": [
    "shp21 = shp21.assign(oecd_hhmembers = shp21.apply(lambda x: oecd_hhmembers(x.n_hhmembers_o14, x.n_hhmembers_u14), axis=1))\n",
    "shp21 = shp21.assign(hhincome = shp21.groupby(\"idhous21\").pers_income_imp.transform(\"sum\"))\n",
    "shp21 = shp21.assign(hh_eq_income_imp = shp21.hhincome/shp21.oecd_hhmembers)\n",
    "shp21 = shp21.assign(hh_eq_income_log = np.log(shp21.hh_eq_income+1))\n",
    "shp21 = shp21.assign(hh_eq_income_imp_log = np.log(shp21.hh_eq_income_imp+1))"
   ]
  },
  {
   "cell_type": "markdown",
   "id": "4c0cb373-1db8-4617-9149-ee8e00d37f16",
   "metadata": {},
   "source": [
    "Correlation and mean deviation between imputed houshold equivalent income and houshold equivalent income provided by FORS."
   ]
  },
  {
   "cell_type": "code",
   "execution_count": 16,
   "id": "46343563-6e01-49f5-9105-afecc4f67a1c",
   "metadata": {},
   "outputs": [
    {
     "name": "stdout",
     "output_type": "stream",
     "text": [
      "(0.9185040608814452, 0.0)\n"
     ]
    },
    {
     "data": {
      "text/plain": [
       "8171.983404707293"
      ]
     },
     "execution_count": 16,
     "metadata": {},
     "output_type": "execute_result"
    }
   ],
   "source": [
    "print(pearsonr(shp21[~shp21.hh_eq_income.isna()].hh_eq_income_imp, shp21[~shp21.hh_eq_income.isna()].hh_eq_income))\n",
    "np.mean(abs(shp21[~shp21.hh_eq_income.isna()].hh_eq_income_imp-shp21[~shp21.hh_eq_income.isna()].hh_eq_income))"
   ]
  },
  {
   "cell_type": "markdown",
   "id": "f8bd414d-3b93-47f6-a201-baa0042ba9f2",
   "metadata": {},
   "source": [
    "#### Recode health, occupation, civil status, and problems with environment or criminality"
   ]
  },
  {
   "cell_type": "code",
   "execution_count": 17,
   "id": "355a9efe-0e9f-4ea9-8bd0-b4ab48e32745",
   "metadata": {},
   "outputs": [],
   "source": [
    "health_map = {1:5,\n",
    "             2:4,\n",
    "             3:3,\n",
    "             4:2,\n",
    "             5:1}\n",
    "shp21 = shp21.assign(health = shp21.health.map(health_map))"
   ]
  },
  {
   "cell_type": "code",
   "execution_count": 18,
   "id": "3e5b2164-2048-44b5-ab32-9c0487df0984",
   "metadata": {},
   "outputs": [],
   "source": [
    "occupa_map = {1:1, # full-time\n",
    "             2:2, # part-time\n",
    "             3:2, # part-time\n",
    "             4:3, # education\n",
    "             10:4, # unemployed\n",
    "             8:5, # retired\n",
    "             9:5, # retired\n",
    "             5:6, # other occupation\n",
    "             6:6, # other occupation\n",
    "             7:6, # other occupation\n",
    "             11:6} # other occupation\n",
    "shp21 = shp21.assign(occupa = shp21.occupa.map(occupa_map))"
   ]
  },
  {
   "cell_type": "code",
   "execution_count": 19,
   "id": "b7ebaad1-3a7f-4563-83aa-0a9ecab6b381",
   "metadata": {},
   "outputs": [],
   "source": [
    "civ_map = {1:1, # single\n",
    "          2:2, # married or partnership\n",
    "          6:2, # married or partnership\n",
    "          3:3, # separated, divorced, dissolved, windowed\n",
    "          4:3, # separated, divorced, dissolved, windowed\n",
    "          5:3, # separated, divorced, dissolved, windowed\n",
    "          7:3} # separated, divorced, dissolved, windowed\n",
    "shp21 = shp21.assign(civstat = shp21.civstat.map(civ_map))"
   ]
  },
  {
   "cell_type": "markdown",
   "id": "7d1e7b7c-631e-4329-b7f3-8ebb893707f8",
   "metadata": {},
   "source": [
    "#### Add cities to postcodes"
   ]
  },
  {
   "cell_type": "code",
   "execution_count": 20,
   "id": "35d9b800-cc66-4652-ada3-6a9677ecc9b4",
   "metadata": {},
   "outputs": [],
   "source": [
    "postcode_to_city = pd.read_excel(dir_h + \"postcode_to_city.xlsx\")"
   ]
  },
  {
   "cell_type": "code",
   "execution_count": 21,
   "id": "643de905-cfa4-40f6-b4d5-f5c254ef9c8f",
   "metadata": {},
   "outputs": [],
   "source": [
    "postcode_to_city = postcode_to_city[~postcode_to_city.npa.duplicated(keep=\"first\")]\n",
    "city_code = pd.DataFrame(postcode_to_city.city.unique(), columns=[\"city\"])\n",
    "city_code.insert(1, \"city_code\", range(1, 1+len(city_code)))\n",
    "postcode_to_city = postcode_to_city.merge(city_code, on=\"city\", how=\"left\")\n",
    "shp21 = shp21.merge(postcode_to_city, on=\"npa\", how=\"left\")"
   ]
  },
  {
   "cell_type": "markdown",
   "id": "c48e1aed-a28d-45c3-a785-1206038135ea",
   "metadata": {},
   "source": [
    "#### Add population density"
   ]
  },
  {
   "cell_type": "code",
   "execution_count": 22,
   "id": "72fcc929-defc-4085-ad70-dbef40725d58",
   "metadata": {},
   "outputs": [
    {
     "name": "stderr",
     "output_type": "stream",
     "text": [
      "C:\\Users\\bahr\\Anaconda3\\lib\\site-packages\\pyproj\\crs\\crs.py:141: FutureWarning: '+init=<authority>:<code>' syntax is deprecated. '<authority>:<code>' is the preferred initialization method. When making the change, be mindful of axis order changes: https://pyproj4.github.io/pyproj/stable/gotchas.html#axis-order-changes-in-proj-6\n",
      "  in_crs_string = _prepare_from_proj_string(in_crs_string)\n"
     ]
    }
   ],
   "source": [
    "CH_shp = gpd.read_file(dir_h + \"switzerland_map/PLZO_SHP_LV95/PLZO_PLZ.shp\")\n",
    "CH_shp = CH_shp[[\"PLZ\", \"geometry\"]]\n",
    "CH_shp[\"geometry\"] = CH_shp.geometry.to_crs({'init': 'epsg:2056'})\n",
    "CH_shp[\"area\"] = CH_shp.geometry.area/10**6\n",
    "CH_shp = CH_shp[[\"PLZ\", \"area\"]]\n",
    "CH_shp[\"area\"] = CH_shp.groupby(\"PLZ\").area.transform(\"sum\")\n",
    "CH_shp = CH_shp.drop_duplicates()"
   ]
  },
  {
   "cell_type": "code",
   "execution_count": 23,
   "id": "cf1c3727-e9a4-407d-a78d-829e3db2b671",
   "metadata": {},
   "outputs": [
    {
     "name": "stderr",
     "output_type": "stream",
     "text": [
      "C:\\Users\\bahr\\Anaconda3\\lib\\site-packages\\openpyxl\\worksheet\\header_footer.py:48: UserWarning: Cannot parse header or footer so it will be ignored\n",
      "  warn(\"\"\"Cannot parse header or footer so it will be ignored\"\"\")\n"
     ]
    }
   ],
   "source": [
    "ch_postcode_population = pd.read_excel(dir_h + \"population_postcode_CH.xlsx\")\n",
    "CH_shp = CH_shp.merge(ch_postcode_population, left_on=\"PLZ\", right_on=\"postcode\", how=\"left\")\n",
    "CH_shp[\"pop_density\"] = CH_shp[\"population\"]/CH_shp[\"area\"]\n",
    "CH_shp[[\"PLZ\", \"area\", \"pop_density\"]].to_pickle(dir_h + \"postcode_area.pkl\")"
   ]
  },
  {
   "cell_type": "code",
   "execution_count": 24,
   "id": "24b3a92b-3c25-4f04-a066-562b982d43c5",
   "metadata": {},
   "outputs": [],
   "source": [
    "postcode_area = pd.read_pickle(dir_h + \"postcode_area.pkl\")\n",
    "shp21 = shp21.merge(postcode_area, left_on=\"npa\", right_on=\"PLZ\", how=\"left\")"
   ]
  },
  {
   "cell_type": "markdown",
   "id": "99619704-51fb-46bb-81ae-a13dc2504b83",
   "metadata": {},
   "source": [
    "#### Add income per capita on municipality level"
   ]
  },
  {
   "cell_type": "code",
   "execution_count": 25,
   "id": "8235a718-dc5c-4ae9-b9bf-88229c3789e2",
   "metadata": {},
   "outputs": [],
   "source": [
    "shp21[\"city\"] = shp21[\"city\"].replace({\"Petit-Lancy\": \"Lancy\",\n",
    "                                              \"Grand-Lancy\": \"Lancy\",\n",
    "                                              \"Corin-de-la-Crête\": \"Crans-Montana\",\n",
    "                                              \"Bussigny-près-Lausanne\": \"Bussigny\",\n",
    "                                              \"Glattpark (Opfikon)\": \"Opfikon\",\n",
    "                                              \"Hermatswil\" : \"Pfäffikon\",\n",
    "                                              \"Gockhausen\": \"Dübendorf\",\n",
    "                                              \"Ottikon b. Kemptthal\": \"Illnau-Effretikon\",\n",
    "                                              \"Reutlingen (Winterthur)\": \"Winterthur\",\n",
    "                                              \"Siebnen\": \"Wangen SZ\",\n",
    "                                              \"Jona\": \"Rapperswil-Jona\",\n",
    "                                              \"Le Lignon\": \"Vernier\",\n",
    "                                              \"Les Acacias\": \"Genève\",\n",
    "                                              \"Emmenbrücke\": \"Emmen\",\n",
    "                                              \"Appenzell Eggerstanden\": \"Schwende\",\n",
    "                                              \"Wilen b. Wollerau\": \"Freienbach\",\n",
    "                                              \"Frasnacht\": \"Arbon\",\n",
    "                                               \"Buonas\": \"Risch\",\n",
    "                                               \"Sundlauenen\": \"Beatenberg\",\n",
    "                                               \"Trachslau\": \"Einsiedeln\",\n",
    "                                               \"Deisswil b. Münchenbuchsee\": \"Deisswil bei Münchenbuchsee\",\n",
    "                                               \"Lüchingen\": \"Altstätten\",\n",
    "                                               \"Brugg AG\": \"Brugg\"})"
   ]
  },
  {
   "cell_type": "code",
   "execution_count": 26,
   "id": "7fea2f95-7edd-4e31-bff7-8ab69c8e2674",
   "metadata": {},
   "outputs": [],
   "source": [
    "income_municipality = pd.read_excel(dir_h + \"income_by_municipality.xlsx\")\n",
    "income_municipality = income_municipality.rename(columns={\"GEO_NAME\": \"city\",\n",
    "                                                         \"VALUE\": \"mun_income_per_cap\"})\n",
    "income_municipality = income_municipality[income_municipality.VARIABLE==\"mun_income_per_capita\"][[\"city\", \"mun_income_per_cap\"]]\n",
    "shp21 = shp21.merge(income_municipality, how=\"left\", on=\"city\")\n",
    "shp21[\"mun_income_per_cap_log\"] = np.log(shp21.mun_income_per_cap)"
   ]
  },
  {
   "cell_type": "markdown",
   "id": "73c8d984-78f2-48db-b553-bedab732f966",
   "metadata": {},
   "source": [
    "#### Add location of next larger train station as proxy for city center"
   ]
  },
  {
   "cell_type": "code",
   "execution_count": 27,
   "id": "1410071b-9b75-4888-9f26-65787b2d77e5",
   "metadata": {},
   "outputs": [],
   "source": [
    "# remove wrongly coded locations and change the city of one household to Zurich\n",
    "shp21 = shp21[~shp21.idhous21.isin([646502, 100603, 129723, 222851])]\n",
    "shp21_changed = shp21[shp21.idhous21==423931].replace({\"Hinteregg\": \"Zürich\", 8132: 8008})\n",
    "shp21 = pd.concat([shp21[shp21.idhous21!=423931], shp21_changed]).reset_index(drop=True)"
   ]
  },
  {
   "cell_type": "code",
   "execution_count": 28,
   "id": "0da855a9-191e-4fd9-afc6-300055ec8748",
   "metadata": {},
   "outputs": [],
   "source": [
    "train_station_location = pd.read_excel(dir_h + \"/train_station_location.xlsx\")\n",
    "train_station_location[\"center_g_lat\"] = train_station_location.center_coord.apply(lambda x: x.split(',')[0])\n",
    "train_station_location[\"center_g_lon\"] = train_station_location.center_coord.apply(lambda x: x.split(',')[1])\n",
    "shp21 = shp21.merge(train_station_location[[\"city\",\"center_name\", \"center_g_lat\", \"center_g_lon\"]], how=\"left\", on=\"city\")"
   ]
  },
  {
   "cell_type": "code",
   "execution_count": 29,
   "id": "255024db-0585-4c20-894f-bf0f40827b23",
   "metadata": {},
   "outputs": [],
   "source": [
    "coords_center = gpd.GeoDataFrame(shp21[\"idhous21\"], geometry=gpd.points_from_xy(shp21.center_g_lat, shp21.center_g_lon), crs=4326)\n",
    "coords_center = coords_center.to_crs(crs=21782)\n",
    "coords = gpd.GeoDataFrame(shp21[\"idhous21\"], geometry=gpd.points_from_xy(shp21.g_lat, shp21.g_lon), crs=4326)\n",
    "coords = coords.to_crs(crs=21782)\n",
    "shp21[\"distance_to_center_1\"] = coords.distance(coords_center)"
   ]
  },
  {
   "cell_type": "code",
   "execution_count": 30,
   "id": "b4c57bd6-12e6-48d8-84b6-6391ffd4a20a",
   "metadata": {},
   "outputs": [],
   "source": [
    "g = Geod(ellps='WGS84')\n",
    "distance = []\n",
    "\n",
    "for i in range(0, len(shp21)):\n",
    "    df = shp21.iloc[i]\n",
    "    _, _, dist = g.inv(df.g_lat, df.g_lon, df.center_g_lat, df.center_g_lon)\n",
    "    distance.append(dist)"
   ]
  },
  {
   "cell_type": "code",
   "execution_count": 31,
   "id": "9bf3caf1-6b38-4753-8184-2102f4886832",
   "metadata": {},
   "outputs": [],
   "source": [
    "shp21[\"distance_to_center_2\"] = distance"
   ]
  },
  {
   "cell_type": "markdown",
   "id": "f0c4e247-3380-4182-9824-52bf41039f54",
   "metadata": {
    "tags": []
   },
   "source": [
    "#### Restricte sample to observations between 20 and 85 years\n",
    "\n",
    "4333 observations are removed"
   ]
  },
  {
   "cell_type": "code",
   "execution_count": 32,
   "id": "55bbc093-f483-442c-9141-9ea9780bff03",
   "metadata": {},
   "outputs": [],
   "source": [
    "shp21 = shp21[(shp21.age >= 20) & (shp21.age <= 85)]"
   ]
  },
  {
   "cell_type": "markdown",
   "id": "04214f79-85b6-4534-aac5-6fe9eb4d0977",
   "metadata": {},
   "source": [
    "#### Remove observations from ural postcodes (less than 500 inhabtiants per km2)\n",
    "\n",
    "6481 observations are removed"
   ]
  },
  {
   "cell_type": "code",
   "execution_count": 33,
   "id": "eea4cfe9-1c0c-4b45-a882-8decd1b26a32",
   "metadata": {},
   "outputs": [],
   "source": [
    "shp21 = shp21[shp21.pop_density >= 500]"
   ]
  },
  {
   "cell_type": "markdown",
   "id": "65b9837b-c902-450e-8af6-4616982b384b",
   "metadata": {},
   "source": [
    "#### Remove obervations with missings on exogenous variable (life satisfaction)\n",
    "\n",
    "2243 of the observations have not indicated their life satisfaction."
   ]
  },
  {
   "cell_type": "code",
   "execution_count": 34,
   "id": "b177bf31-3328-4d00-89bf-67223d220fbe",
   "metadata": {},
   "outputs": [
    {
     "name": "stdout",
     "output_type": "stream",
     "text": [
      "2243\n",
      "6918\n"
     ]
    }
   ],
   "source": [
    "shp21_removed = shp21[shp21.lifesat.isna()]\n",
    "print(len(shp21_removed))\n",
    "shp21 = shp21[~shp21.lifesat.isna()]\n",
    "print(len(shp21))"
   ]
  },
  {
   "cell_type": "code",
   "execution_count": 35,
   "id": "0f3309f7-ebf4-476a-942b-a5e22b460538",
   "metadata": {},
   "outputs": [],
   "source": [
    "shp21.to_pickle(dir_h + \"shp21_preliminar.pkl\")"
   ]
  },
  {
   "cell_type": "markdown",
   "id": "d53eaff0-2b0b-40f0-bc08-ae1f49533a0f",
   "metadata": {},
   "source": [
    "#### Examine possible seasonal effect"
   ]
  },
  {
   "cell_type": "markdown",
   "id": "54362ea6-5e58-4526-bb1c-53569df5ceb9",
   "metadata": {},
   "source": [
    "Because interviews are conducted from September 2021 until March 2022 it might be that life satisfaction differs between fall and winter interviewees. Further the effect of the neighborhood topology and especially greenery on life satisfaction might be weeker during the winter. Therefore a seperate analysis will be conducted for the interviews until 31th of October. Further, the reports on the weather conditions of fall 2021 from the Federal Office of Meteorology and Climatology indicate a warm and sunny fall and the first snowfall was registered at the 1st November [report](https://www.meteoschweiz.admin.ch/service-und-publikationen/publikationen.html#order=date-desc&page=2&pageGroup=publication&type=reportOrBulletin). \n",
    "\n",
    "3970 households were interviewed until the 1th of november or after the 1th of march and 4873 households in the winter season in between. If focussing at the urban population 1467 households were interviewed in fall or spring and 1829 in winter. We assume that the interview date was assigned at random and the interviewees were therefore not able to select themself into a season. If this holds true we can conclude that the season has no effect on life satisfaction since mean, median and standard deviation are not differing between the seasons. A two-sample T-test support this assumption. Further, no significant difference between the two sample can be found for the variables education years and household equivalence income. However, for number of children per household and age the sample means differ from each other significantly."
   ]
  },
  {
   "cell_type": "code",
   "execution_count": 39,
   "id": "1b749dcc-22cf-4378-9dcf-0a81e0ae6b37",
   "metadata": {},
   "outputs": [],
   "source": [
    "def ttest(s1, s2):\n",
    "    diff_means = s1.mean() - s1.mean()\n",
    "    t_stat, p_value = ttest_ind(s1, s2)\n",
    "    print(\"Diff means:\", diff_means)\n",
    "    print(\"T-statistic value:\", t_stat)\n",
    "    print(\"P-Value:\", p_value)"
   ]
  },
  {
   "cell_type": "code",
   "execution_count": 36,
   "id": "31cb0060-5a12-4bac-b8c2-d22885721477",
   "metadata": {},
   "outputs": [],
   "source": [
    "shp21[\"winter\"] = np.where((shp21.pdate21 < \"2021-11-01\") | (shp21.pdate21 >= \"2022-03-01\"), 0, 1)"
   ]
  },
  {
   "cell_type": "code",
   "execution_count": 41,
   "id": "2bddea15-ccf6-46e2-ac4b-1bb06bc22c31",
   "metadata": {},
   "outputs": [
    {
     "name": "stdout",
     "output_type": "stream",
     "text": [
      "Diff means: 0.0\n",
      "T-statistic value: 0.6253294661764512\n",
      "P-Value: 0.5317754768508031\n"
     ]
    }
   ],
   "source": [
    "ttest(shp21[shp21.winter==0].lifesat, shp21[shp21.winter==1].lifesat)"
   ]
  },
  {
   "cell_type": "code",
   "execution_count": 40,
   "id": "6453dcbd-63aa-4898-bea0-a615f8f28bb7",
   "metadata": {},
   "outputs": [
    {
     "name": "stdout",
     "output_type": "stream",
     "text": [
      "Diff means: 0.0\n",
      "T-statistic value: 0.5291720200619229\n",
      "P-Value: 0.5967221422838016\n"
     ]
    }
   ],
   "source": [
    "ttest(shp21[(shp21.winter==0) & (shp21.pop_density >= 1500)].lifesat, shp21[(shp21.winter==1) & (shp21.pop_density >= 1500)].lifesat)"
   ]
  },
  {
   "cell_type": "markdown",
   "id": "a0e2b705-8b9a-4810-8e1c-e5598be8a254",
   "metadata": {},
   "source": [
    "Final check of amount of missing values"
   ]
  },
  {
   "cell_type": "code",
   "execution_count": 38,
   "id": "c1b55d67-2f70-4761-b7da-4bbb7de3872d",
   "metadata": {},
   "outputs": [
    {
     "data": {
      "text/plain": [
       "idpers                    0\n",
       "idhous21                  0\n",
       "npa                       0\n",
       "g_lat                     0\n",
       "g_lon                     0\n",
       "pop_density               0\n",
       "CH_region                 0\n",
       "city                      0\n",
       "center_name               0\n",
       "distance_to_center_1      0\n",
       "distance_to_center_2      0\n",
       "prob_env                 52\n",
       "sport                   127\n",
       "depression               36\n",
       "lifesat                   0\n",
       "sex                       0\n",
       "age                       0\n",
       "civstat                   0\n",
       "educat                   13\n",
       "occupa                   23\n",
       "nchildren                 1\n",
       "n_children_u5             0\n",
       "n_children_17_5           0\n",
       "n_children_o17            1\n",
       "hh_eq_income_log        756\n",
       "hh_eq_income_imp_log      0\n",
       "owner                    36\n",
       "residence_type          290\n",
       "dtype: int64"
      ]
     },
     "execution_count": 38,
     "metadata": {},
     "output_type": "execute_result"
    }
   ],
   "source": [
    "shp21[[\"idpers\", \"idhous21\", \"npa\", \"g_lat\", \"g_lon\", \"pop_density\", \"CH_region\", \"city\", \"center_name\",\n",
    "       \"distance_to_center_1\", \"distance_to_center_2\", \"prob_env\", \"sport\", \"depression\",\n",
    "      \"lifesat\", \"sex\", \"age\", \"civstat\", \"educat\", \"occupa\", \"nchildren\", \"n_children_u5\",\n",
    "       \"n_children_17_5\", \"n_children_o17\", \"hh_eq_income_log\", \"hh_eq_income_imp_log\", \"owner\", \"residence_type\"]].isna().sum()"
   ]
  },
  {
   "cell_type": "markdown",
   "id": "46834122-151f-426e-b7f2-e035110e1f22",
   "metadata": {},
   "source": [
    "### Get nine tiles around center location"
   ]
  },
  {
   "cell_type": "code",
   "execution_count": 4,
   "id": "d43b0bb8-4ab2-4e68-a9ba-c9db4d83f995",
   "metadata": {},
   "outputs": [],
   "source": [
    "shp21_agg = shp21.groupby(\"idhous21\").first()[[\"g_lat\", \"g_lon\"]].reset_index()"
   ]
  },
  {
   "cell_type": "code",
   "execution_count": 5,
   "id": "f3cdde48-0e2d-47f3-b247-ccb9dec1f29d",
   "metadata": {},
   "outputs": [],
   "source": [
    "def get_new_lat_lon(old_lat, old_lon, dy, dx, r_earth = 6378.137):\n",
    "    pi = math.pi\n",
    "    new_latitude = old_lat + (dy / r_earth) * (180 / pi)\n",
    "    new_longitude = old_lon + ((dx / r_earth) * (180 / pi) / math.cos(new_latitude * pi/180))\n",
    "    return new_latitude, new_longitude"
   ]
  },
  {
   "cell_type": "code",
   "execution_count": 6,
   "id": "eceffdac-fc34-4f5a-aab0-c34b3c3530c2",
   "metadata": {},
   "outputs": [],
   "source": [
    "new_coords=[]\n",
    "\n",
    "for ids in shp21_agg.idhous21.tolist():\n",
    "    old_latitude = shp21_agg[shp21_agg.idhous21==ids].g_lat.values[0]\n",
    "    old_longitude = shp21_agg[shp21_agg.idhous21==ids].g_lon.values[0]\n",
    "\n",
    "    hids=[]\n",
    "    lats=[]\n",
    "    lons=[]\n",
    "    coords=[]\n",
    "    tile_n=[]\n",
    "    tile_iter=1\n",
    "\n",
    "    for i in [[0.42, -0.42], [0.42, 0], [0.42, 0.42], [0, -0.42], [0, 0], [0, 0.42], [-0.42, -0.42], [-0.42, 0], [-0.42, 0.42]]:\n",
    "        lat, lon = get_new_lat_lon(old_latitude, old_longitude, i[0], i[1])\n",
    "        hids.append(ids)\n",
    "        lats.append(lat)\n",
    "        lons.append(lon)\n",
    "        tile_n.append(tile_iter)\n",
    "        tile_iter+=1\n",
    "    coords.append(list(zip(hids, tile_n, lats, lons,)))\n",
    "    new_coords.append(coords)"
   ]
  },
  {
   "cell_type": "code",
   "execution_count": 7,
   "id": "e71cb006-2e46-422b-a81f-dbfd5438d1a2",
   "metadata": {},
   "outputs": [],
   "source": [
    "coords_array = np.array(new_coords)\n",
    "np.save(dir_h + \"/coords_array\", coords_array)"
   ]
  },
  {
   "cell_type": "markdown",
   "id": "7e558a22-8ff0-43ec-89fd-a9a2bfae891b",
   "metadata": {},
   "source": [
    "=> proceed with file ```image_scraping_google.ipynb```"
   ]
  }
 ],
 "metadata": {
  "kernelspec": {
   "display_name": "Python 3 (ipykernel)",
   "language": "python",
   "name": "python3"
  },
  "language_info": {
   "codemirror_mode": {
    "name": "ipython",
    "version": 3
   },
   "file_extension": ".py",
   "mimetype": "text/x-python",
   "name": "python",
   "nbconvert_exporter": "python",
   "pygments_lexer": "ipython3",
   "version": "3.9.12"
  }
 },
 "nbformat": 4,
 "nbformat_minor": 5
}
