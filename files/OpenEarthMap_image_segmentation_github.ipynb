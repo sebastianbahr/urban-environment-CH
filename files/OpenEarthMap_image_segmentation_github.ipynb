{
 "cells": [
  {
   "cell_type": "markdown",
   "id": "86b5add1-120a-4365-bc1e-7ce2fa3d09bf",
   "metadata": {},
   "source": [
    "# Semantic image segmentation using OpenEarthMap imagery and U-Net with Efficient Net B4 backbone"
   ]
  },
  {
   "cell_type": "code",
   "execution_count": null,
   "id": "d33eb160-061b-42e7-8fee-8fac55ecaf96",
   "metadata": {},
   "outputs": [],
   "source": [
    "import numpy as np\n",
    "import pandas as pd\n",
    "import pyreadr as pyr\n",
    "from sys import getsizeof\n",
    "import random\n",
    "import cv2\n",
    "import os\n",
    "from skimage import io\n",
    "import matplotlib as mpl\n",
    "import matplotlib.pyplot as plt\n",
    "import tensorflow as tf\n",
    "import tensorflow_addons as tfa\n",
    "import keras\n",
    "import keras.backend as K\n",
    "import segmentation_models as sm \n",
    "from keras.metrics import MeanIoU\n",
    "from sklearn.model_selection import train_test_split\n",
    "from sklearn.model_selection import KFold\n",
    "from sklearn.preprocessing import LabelEncoder\n",
    "from patchify import patchify\n",
    "from sklearn.metrics import ConfusionMatrixDisplay\n",
    "\n",
    "sm.set_framework('tf.keras')\n",
    "sm.framework()\n",
    "random_seed = 1234"
   ]
  },
  {
   "cell_type": "code",
   "execution_count": 9,
   "id": "f776c62c-3ebe-441b-9d5f-56925f619d05",
   "metadata": {},
   "outputs": [],
   "source": [
    "# set up dirs\n",
    "\n",
    "dir_h = \"YOUR_DIRECTORY/\"\n",
    "dir_rs = \"YOUR_DIRECTORY/\""
   ]
  },
  {
   "cell_type": "code",
   "execution_count": 2,
   "id": "07b5eeeb-f054-449f-80bb-a501c66541dd",
   "metadata": {},
   "outputs": [
    {
     "data": {
      "text/plain": [
       "(1856, 512, 512, 3)"
      ]
     },
     "execution_count": 2,
     "metadata": {},
     "output_type": "execute_result"
    }
   ],
   "source": [
    "test_img = np.load(dir_rs + \"Data_sets/image_segmentation/CV1_test_imgs_all_patch.npy\")\n",
    "test_img.shape"
   ]
  },
  {
   "cell_type": "code",
   "execution_count": 3,
   "id": "e00b17d6-84a5-4eeb-848a-99ee02eb2218",
   "metadata": {},
   "outputs": [
    {
     "data": {
      "text/plain": [
       "(7422, 512, 512, 3)"
      ]
     },
     "execution_count": 3,
     "metadata": {},
     "output_type": "execute_result"
    }
   ],
   "source": [
    "CV1_train_imgs = np.load(dir_rs + \"Data_sets/image_segmentation/CV1_train_imgs_all_patch.npy\")\n",
    "CV1_train_imgs.shape"
   ]
  },
  {
   "cell_type": "markdown",
   "id": "71ead955-44b7-4dec-a9db-35683f6fe772",
   "metadata": {},
   "source": [
    "## Import OpenEarthMap"
   ]
  },
  {
   "cell_type": "markdown",
   "id": "04356a85-2a18-4c1c-ba40-ffb6c63e410b",
   "metadata": {},
   "source": [
    "The data can be downloaded from the following [website](https://open-earth-map.org/). The image segmentation masks contain 9 categories. Most of the images have a size of 1024x1024. However, some have the size 1000x1000 or 650x650. After loading the data a preprocessing pipeline is used to transform all images to a size of 512x512. Images of size 1024x1024 are patchified into four imags of equal size. To images of size 1000x1000 zero padding is added and they are patchified into four imags of equal size. If the image size is 650x650 a central crop is applied. This results in 5629 images and masks from developing countries and 3649 from developed countries and a total of 9278 examples. Due to the small size of the data set 5-fold cross validation is used later on to evaluate the models performance."
   ]
  },
  {
   "cell_type": "markdown",
   "id": "f5011565-04bc-4042-8968-7c0d60873cd3",
   "metadata": {},
   "source": [
    "* 0 Unknown\n",
    "* 1 Bareland\n",
    "* 2 Rangeland\n",
    "* 3 Developed space\n",
    "* 4 Road\n",
    "* 5 Trees\n",
    "* 6 Water\n",
    "* 7 Agriculture land\n",
    "* 8 Buildings"
   ]
  },
  {
   "cell_type": "code",
   "execution_count": 4,
   "id": "5cd671b0-b6c7-4f7c-af6e-10c498110725",
   "metadata": {},
   "outputs": [],
   "source": [
    "developing_countries = [\"abancay\",\"accra\",\"al_qurnah\",\"baybay\",\"bogota\",\"buenos_aires\",\"chiangmai\",\"chiclayo\",\"chincha\",\"coxsbazar\",\n",
    "                        \"daressalaam\",\"dhaka\",\"dowa\",\"ica\",\"kagera\",\"kampala\",\"khartoum\",\"kyoto\",\"lambayeque\",\"lima\",\"lohur\",\"mahe\",\n",
    "                        \"maputo\",\"monrovia\",\"ngaoundere\",\"niamey\",\"pisco\",\"piura\",\"pointenoire\",\"rosario\",\"san_tome\",\"santiago\",\n",
    "                        \"sechura\",\"soriano\",\"svaneti\",\"tokyo\",\"tonga\",\"ulaanbaatar\",\"viru\",\"western\",\"zanzibar\"]\n",
    "\n",
    "developed_countries = [\"aachen\",\"austin\",\"bielefeld\",\"chicago\",\"chisinau\",\"christchurch\",\"dolnoslaskie\",\"dortmund\",\"duesseldorf\",\"koeln\",\n",
    "                       \"tyrolw\",\"kujawsko-pomorskie\",\"mazowieckie\",\"melbourne\",\"podkarpackie\",\"podlaskie\",\"pomorskie\",\"rotterdam\",\n",
    "                       \"slaskie\",\"swietokrzyskie\",\"vienna\",\"warminsko-mazurskie\",\"wielkopolskie\",\"zachodniopomorskie\",\"paris\",\"shanghai\",\"vegas\"]\n",
    "\n",
    "all_countries = developing_countries+developed_countries"
   ]
  },
  {
   "cell_type": "code",
   "execution_count": 5,
   "id": "ea42969c-e899-474d-a843-4202d8efa786",
   "metadata": {},
   "outputs": [],
   "source": [
    "def get_mask_and_image(path, valid_images, city):\n",
    "    imgs = []\n",
    "    img_names = []\n",
    "    img_masks = []\n",
    "\n",
    "    for f in os.listdir(path+city+\"/labels/\"):\n",
    "        ext = os.path.splitext(f)[1]\n",
    "        if ext.lower() not in valid_images:\n",
    "            continue\n",
    "        img_names.append(f)\n",
    "        img_masks.append(io.imread(os.path.join(path+city+\"/labels/\",f)))\n",
    "\n",
    "    for i in img_names:\n",
    "        imgs.append(io.imread(path+city+\"/images/\"+i))\n",
    "    \n",
    "    return img_names, img_masks, imgs"
   ]
  },
  {
   "cell_type": "code",
   "execution_count": null,
   "id": "cd82570e-518b-4782-8d30-8020bf869144",
   "metadata": {},
   "outputs": [],
   "source": [
    "city_names=[]\n",
    "city_masks=[]\n",
    "city_imgs=[]\n",
    "\n",
    "for i in all_countries:\n",
    "    c_names, c_masks, c_imgs = get_mask_and_image(dir_rs + \"/openearthmap/\", [\".tif\"], i)\n",
    "    \n",
    "    if c_imgs[0].shape == (1024,1024,3):\n",
    "        for img in c_imgs:\n",
    "            patchified_img = patchify(img, (512, 512, 3), step=512)\n",
    "            for k in range(patchified_img.shape[0]):\n",
    "                for j in range(patchified_img.shape[1]):\n",
    "                    city_imgs.append(patchified_img[k, j,0,:, :, :]) \n",
    "            \n",
    "        for mask in c_masks:\n",
    "            patchified_mask = patchify(np.expand_dims(mask, axis=2), (512, 512, 1), step=512)           \n",
    "            for k in range(patchified_mask.shape[0]):\n",
    "                for j in range(patchified_mask.shape[1]):\n",
    "                    city_masks.append(patchified_mask[k, j,0,:, :, :])\n",
    "            \n",
    "        for n in c_names:\n",
    "            for n_i in range(0, 4):\n",
    "                city_names.append(n.split(\".\")[0])\n",
    "        print(i)\n",
    "        \n",
    "    elif c_imgs[0].shape == (1000,1000,3):\n",
    "        for n in c_names:\n",
    "            for n_i in range(0, 4):\n",
    "                city_names.append(n.split(\".\")[0])             \n",
    "          \n",
    "        for img in c_imgs:\n",
    "            c_img = np.pad(img, pad_width=[(12, 12),(12, 12),(0, 0)], mode='constant', constant_values=0)\n",
    "            patchified_img = patchify(c_img, (512, 512, 3), step=512) \n",
    "            for k in range(patchified_img.shape[0]):\n",
    "                for j in range(patchified_img.shape[1]):\n",
    "                    city_imgs.append(patchified_img[k, j,0,:, :, :])\n",
    "            \n",
    "        for mask in c_masks:                \n",
    "            c_mask = np.pad(np.expand_dims(mask, axis=2), pad_width=[(12, 12),(12, 12),(0, 0)], mode='constant', constant_values=0)\n",
    "            patchified_mask = patchify(c_mask, (512, 512, 1), step=512)\n",
    "            for k in range(patchified_mask.shape[0]):\n",
    "                for j in range(patchified_mask.shape[1]):\n",
    "                    city_masks.append(patchified_mask[k, j,0,:, :, :])\n",
    "        print(i)\n",
    "    \n",
    "    elif c_imgs[0].shape == (650,650,3):\n",
    "        for img in c_imgs:        \n",
    "            city_imgs.append(np.array(tf.image.central_crop(img, 0.787)))\n",
    "            \n",
    "        for mask in c_masks:\n",
    "            city_masks.append(np.array(tf.image.central_crop(np.expand_dims(mask, axis=2), 0.787)))\n",
    "            \n",
    "        for name in c_names:\n",
    "            city_names.append(name.split(\".\")[0])\n",
    "        print(i)\n",
    "            \n",
    "        \n",
    "\n",
    "city_masks = np.array(city_masks)\n",
    "city_imgs = np.array(city_imgs)"
   ]
  },
  {
   "cell_type": "markdown",
   "id": "038a361b-ece9-4de3-af9a-e2d0e50cee72",
   "metadata": {},
   "source": [
    "## Distribution of mask segments"
   ]
  },
  {
   "cell_type": "code",
   "execution_count": 5,
   "id": "0e144907-1152-44fd-ad4a-a665228b30ba",
   "metadata": {},
   "outputs": [],
   "source": [
    "value, count = np.unique(np.array(city_masks).flatten(), return_counts=True)"
   ]
  },
  {
   "cell_type": "code",
   "execution_count": 12,
   "id": "e5fab09b-26ee-4fac-95bf-5d7c03d398b5",
   "metadata": {},
   "outputs": [
    {
     "data": {
      "image/png": "[encoded data removed]",
      "text/plain": [
       "<Figure size 432x288 with 1 Axes>"
      ]
     },
     "metadata": {
      "needs_background": "light"
     },
     "output_type": "display_data"
    }
   ],
   "source": [
    "plt.bar([str(x) for x  in value], (count/np.sum(count))*100)\n",
    "plt.xlabel(\"Mask segments\")\n",
    "plt.ylabel(\"Proportion in %\")\n",
    "plt.show()"
   ]
  },
  {
   "cell_type": "markdown",
   "id": "ed6e8a58-c8df-4899-af3b-4837ecb77802",
   "metadata": {},
   "source": [
    "## Distribution of mask segments in developed countries"
   ]
  },
  {
   "cell_type": "code",
   "execution_count": null,
   "id": "c314cab4-ae29-48fa-a8f7-1385cd26b602",
   "metadata": {},
   "outputs": [],
   "source": [
    "isov = pd.read_excel(dir_h + \"image_segmentation_city_overview.xlsx\")\n",
    "\n",
    "names = pd.DataFrame([x.rsplit(\"_\")[0] for x in list(city_names)], columns=[\"city\"])\n",
    "names = names.merge(isov[[\"city\", \"developed\"]], on=\"city\", how=\"left\")\n",
    "idx_developed = names[names.developed==1].index  \n",
    "city_masks_developed = city_masks[idx_developed]\n",
    "\n",
    "value, count = np.unique(np.array(city_masks_developed).flatten(), return_counts=True)"
   ]
  },
  {
   "cell_type": "code",
   "execution_count": 9,
   "id": "4dc256bf-2365-41c2-97c1-2cd129fdfe73",
   "metadata": {},
   "outputs": [
    {
     "data": {
      "image/png": "[encoded data removed]",
      "text/plain": [
       "<Figure size 432x288 with 1 Axes>"
      ]
     },
     "metadata": {
      "needs_background": "light"
     },
     "output_type": "display_data"
    }
   ],
   "source": [
    "plt.bar([str(x) for x  in value], (count/np.sum(count))*100)\n",
    "plt.xlabel(\"Mask segments\")\n",
    "plt.ylabel(\"Proportion in %\")\n",
    "plt.show()"
   ]
  },
  {
   "cell_type": "markdown",
   "id": "37f497ec-fbc1-4e67-bf0f-802d9b78cf8e",
   "metadata": {},
   "source": [
    "## Encode mask"
   ]
  },
  {
   "cell_type": "markdown",
   "id": "9d53c3f3-2cac-40a5-917c-256a0191c076",
   "metadata": {},
   "source": [
    "Encode the 1 dimensional to a 9 dimensional mask using one-hot-encoding."
   ]
  },
  {
   "cell_type": "code",
   "execution_count": 13,
   "id": "c892aef9-5718-4d06-8a8c-593ffe3f0b53",
   "metadata": {},
   "outputs": [
    {
     "name": "stderr",
     "output_type": "stream",
     "text": [
      "C:\\Users\\bahr\\Anaconda3\\lib\\site-packages\\sklearn\\preprocessing\\_label.py:116: DataConversionWarning: A column-vector y was passed when a 1d array was expected. Please change the shape of y to (n_samples, ), for example using ravel().\n",
      "  y = column_or_1d(y, warn=True)\n"
     ]
    }
   ],
   "source": [
    "labelencoder = LabelEncoder()\n",
    "n, h, w = city_masks[:,:,:,0].shape\n",
    "city_masks_reshaped = np.array(city_masks).reshape(-1,1)\n",
    "city_masks_reshaped_encoded = labelencoder.fit_transform(city_masks_reshaped)\n",
    "city_masks_encoded = city_masks_reshaped_encoded.reshape(n, h, w)\n",
    "city_masks_input = np.expand_dims(city_masks_encoded, axis=3)"
   ]
  },
  {
   "cell_type": "code",
   "execution_count": 14,
   "id": "392d2a5c-9350-47f4-b3fd-f526134c601c",
   "metadata": {},
   "outputs": [
    {
     "data": {
      "text/plain": [
       "(9278, 512, 512, 9)"
      ]
     },
     "execution_count": 14,
     "metadata": {},
     "output_type": "execute_result"
    }
   ],
   "source": [
    "n_classes = 9\n",
    "city_masks_cat = tf.keras.utils.to_categorical(city_masks_input, num_classes=n_classes)\n",
    "city_masks_cat = city_masks_cat.astype(\"uint8\")\n",
    "\n",
    "# check shape\n",
    "city_masks_cat.shape"
   ]
  },
  {
   "cell_type": "markdown",
   "id": "ae05b0ae-ea16-4a62-bf87-b8ec9e8988dd",
   "metadata": {},
   "source": [
    "## Randomly shuffle the data "
   ]
  },
  {
   "cell_type": "code",
   "execution_count": 15,
   "id": "09d459c1-999e-448f-a02b-d44b0e8df569",
   "metadata": {},
   "outputs": [],
   "source": [
    "np.random.seed(random_seed)\n",
    "idx = np.random.permutation(len(city_imgs))\n",
    "city_names_shuffled = np.array(city_names)[idx]\n",
    "city_imgs_shuffled = city_imgs[idx]\n",
    "city_masks_cat_shuffled = city_masks_cat[idx]"
   ]
  },
  {
   "cell_type": "markdown",
   "id": "b6f178e0-5aca-49a0-9d79-f26bc26752f2",
   "metadata": {},
   "source": [
    "## 5-fold CV data split"
   ]
  },
  {
   "cell_type": "code",
   "execution_count": null,
   "id": "81419455-6fc6-42b3-b45c-66c2d87cd139",
   "metadata": {},
   "outputs": [],
   "source": [
    "num_folds = 5\n",
    "i=1\n",
    "kfold = KFold(n_splits=num_folds, shuffle=False)\n",
    "for idx_train, idx_test in kfold.split(city_imgs_shuffled, city_masks_cat_shuffled, city_names_shuffled):   \n",
    "    train_imgs = city_imgs_shuffled[idx_train]\n",
    "    train_mask = city_masks_cat_shuffled[idx_train]\n",
    "    test_imgs = city_imgs_shuffled[idx_test]\n",
    "    test_mask = city_masks_cat_shuffled[idx_test]\n",
    "    test_names = city_names_shuffled[idx_test]\n",
    "    np.save(dir_rs + \"CV%s_train_imgs_all_patch\" %i, train_imgs)\n",
    "    np.save(dir_rs + \"CV%s_train_mask_all_patch\" %i, train_mask)\n",
    "    np.save(dir_rs + \"CV%s_test_names_all_patch\" %i, test_names)\n",
    "    np.save(dir_rs + \"CV%s_test_imgs_all_patch\" %i, test_imgs)\n",
    "    np.save(dir_rs + \"CV%s_test_mask_all_patch\" %i, test_mask)\n",
    "    i += 1"
   ]
  },
  {
   "cell_type": "markdown",
   "id": "8f9b6fed-5326-4c09-8759-6b258e252d46",
   "metadata": {},
   "source": [
    "## Preprocess the data and compile the models in Keras"
   ]
  },
  {
   "cell_type": "markdown",
   "id": "ee3d2afa-4724-483b-939a-f2675d98b756",
   "metadata": {},
   "source": [
    "Due to the high requirement of VRAM the models were trained on the on [UBELIX](http://www.id.unibe.ch/hpc), the HPC cluster at the University of Bern. The same process is repeated for folds 2-5. Most of the hyperparameters are choosen following the suggestion of the original paper of [Xia et al. 2022](https://arxiv.org/abs/2210.10732). However, multiple experiments were run using different backbones and losses. In particulare, the backbone based on an EfficientNet B4 outperformed backbones based on Resnet 34, Resnext 101 and EfficientNet B0. Further, summing focal and jaccard loss outperformed categorical cross entropy, dice loss and combinations of them with focal loss. Use the file ```model_training.py``` to train the model on a server of your choice.\n",
    "\n",
    "For a model ensemble repeat this step and train a model on all five folds."
   ]
  },
  {
   "cell_type": "code",
   "execution_count": null,
   "id": "f9bef8ac-1e8b-467a-b83a-9af709174354",
   "metadata": {},
   "outputs": [],
   "source": [
    "sm.set_framework('tf.keras')\n",
    "sm.framework()\n",
    "\n",
    "\n",
    "## Set hyperparameter and variables\n",
    "i = \"effnetb4_focc_jacc_11\" # MC name\n",
    "m = \"effnetb4\" # name backbone\n",
    "batchsize = 8\n",
    "prefetch = 1\n",
    "n_classes = 9\n",
    "n_epoch = 120\n",
    "lr = 0.0001\n",
    "decay = 0.000001\n",
    "metrics = [tf.keras.metrics.CategoricalAccuracy(name=\"cat_accuracy\"),\n",
    "           sm.metrics.IOUScore(threshold=0.5, class_indexes=[1,2,3,4,5,6,7,8]),\n",
    "           sm.metrics.FScore(threshold=0.5, class_indexes=[1,2,3,4,5,6,7,8]),\n",
    "           tf.keras.metrics.MeanIoU(num_classes=n_classes)]\n",
    "\n",
    "\n",
    "## Load data CV1\n",
    "CV1_train_imgs = np.load(dir_ + \"Data_sets/image_segmentation/CV1_train_imgs_all_patch.npy\") # adjust number of fold\n",
    "CV1_train_mask = np.load(dir_ + \"Data_sets/image_segmentation/CV1_train_mask_all_patch.npy\") # adjust number of fold\n",
    "CV1_test_imgs = np.load(dir_ + \"Data_sets/image_segmentation/CV1_test_imgs_all_patch.npy\") # adjust number of fold\n",
    "CV1_test_mask = np.load(dir_ + \"Data_sets/image_segmentation/CV1_test_mask_all_patch.npy\") # adjust number of fold\n",
    "\n",
    "\n",
    "## Data preprocessing\n",
    "def preprocess_images(image, label):\n",
    "    label = tf.cast(label, tf.float16)\n",
    "    image = tf.cast(image, tf.uint8)  \n",
    "    image = tf.keras.applications.efficientnet.preprocess_input(image)\n",
    "    image = tf.clip_by_value(image, 0, 255)  \n",
    "    return(image, label)\n",
    "\n",
    "\n",
    "with tf.device('/cpu:0'):\n",
    "    train_data = tf.data.Dataset.from_tensor_slices((CV1_train_imgs, CV1_train_mask))\n",
    "    train_data = train_data.batch(batchsize, drop_remainder=False)\n",
    "    train_data = train_data.map(preprocess_images, num_parallel_calls=8)  \n",
    "    \n",
    "    test_data = tf.data.Dataset.from_tensor_slices((CV1_test_imgs, CV1_test_mask))\n",
    "    test_data = test_data.batch(batchsize, drop_remainder=False)\n",
    "    test_data = test_data.map(preprocess_images, num_parallel_calls=8)\n",
    "    \n",
    "with tf.device('/cpu:0'):   \n",
    "    ## Define loss    \n",
    "    dice_loss = sm.losses.DiceLoss(class_indexes=[1,2,3,4,5,6,7,8]) \n",
    "    focal_loss = sm.losses.CategoricalFocalLoss(class_indexes=[1,2,3,4,5,6,7,8])\n",
    "    jaccard_loss = sm.losses.JaccardLoss(class_indexes=[1,2,3,4,5,6,7,8])\n",
    "    categorical_crossentropy = sm.losses.CategoricalCELoss(class_indexes=[1,2,3,4,5,6,7,8])\n",
    "    \n",
    "    categorical_focal_jaccard_loss = focal_loss + jaccard_loss\n",
    "    focal_dice_loss = dice_loss + (1* focal_loss)\n",
    "    \n",
    "    \n",
    "with tf.device('/cpu:0'):  \n",
    "    ## Load U-net backbone\n",
    "    backbone_model = sm.Unet(\"efficientnetb4\", classes=9, encoder_weights=\"imagenet\", activation=\"softmax\")\n",
    "    # or if pregenerated\n",
    "    #backbone_model = keras.models.load_model(dir_ + \"u_net_models/model_u_%s_image_net_weights.hdf5\" %m)\n",
    "    \n",
    "    \n",
    "    ## Define optimizer\n",
    "    #optimizer = tf.keras.optimizers.Adam(learning_rate=lr)\n",
    "    optimizer = tfa.optimizers.AdamW(learning_rate=lr, weight_decay=decay)\n",
    "    \n",
    "    \n",
    "    ## Compile model\n",
    "    backbone_model.compile(optimizer=optimizer,\n",
    "                            loss=categorical_focal_jaccard_loss, \n",
    "                            metrics=metrics)\n",
    "    \n",
    "    ## Callbacks\n",
    "    mc = [tf.keras.callbacks.ModelCheckpoint(filepath=dir_ + \"Data_sets/image_segmentation/u_net_models_mc/u_net_%s\" %i,\n",
    "                                             save_best_only=True, monitor='val_iou_score', mode='max')]\n",
    "    #es = [tf.keras.callbacks.EarlyStopping(monitor='val_iou_score', mode='max', patience=20)]\n",
    "\n",
    "## Train model\n",
    "with tf.device('/gpu:0'):\n",
    "    hist = backbone_model.fit(train_data,\n",
    "                              validation_data=test_data,\n",
    "                              batch_size=batchsize,\n",
    "                              epochs=n_epoch,\n",
    "                              callbacks=[mc],\n",
    "                              verbose = 0)\n",
    "    \n",
    "    \n",
    "## Model evaluation\n",
    "with tf.device('/cpu:0'): \n",
    "    colors = plt.rcParams['axes.prop_cycle'].by_key()['color']\n",
    "    \n",
    "    def plot_metrics(history):\n",
    "        metrics = ['loss', 'cat_accuracy', 'iou_score', 'f1-score']\n",
    "        for n, metric in enumerate(metrics):\n",
    "            name = metric.replace(\"_\",\" \").capitalize()\n",
    "            plt.subplot(2,2,n+1)\n",
    "            plt.plot(history.epoch, history.history[metric], color=colors[0], label='Train')\n",
    "            plt.plot(history.epoch, history.history['val_'+metric],\n",
    "                 color=colors[0], linestyle=\"--\", label='Val')\n",
    "            plt.xlabel('Epoch')\n",
    "            plt.ylabel(name)\n",
    "            if metric == 'loss':\n",
    "                plt.ylim([0, plt.ylim()[1]])\n",
    "            elif metric == 'auc':\n",
    "                plt.ylim([0.5,1])\n",
    "            else:\n",
    "                plt.ylim([0,1])\n",
    "                \n",
    "            plt.legend();\n",
    "            \n",
    "            \n",
    "    plot_metrics(hist)\n",
    "    plt.savefig(dir_ + \"Data_sets/image_segmentation/performance_plots/u_net_%s\" %i)       \n",
    "      \n",
    "    \n",
    "    backbone_model.compile(optimizer=optimizer,\n",
    "                           loss=categorical_focal_jaccard_loss,\n",
    "                           metrics=metrics)\n",
    "    backbone_model.load_weights(dir_ + \"Data_sets/image_segmentation/u_net_models_mc/u_net_%s\" %i)\n",
    "            \n",
    "       \n",
    "    print(backbone_model.evaluate(test_data, verbose=0))"
   ]
  },
  {
   "cell_type": "markdown",
   "id": "d769f7df-5a46-4572-b10d-71ef984891ff",
   "metadata": {},
   "source": [
    "## Test the model's performance"
   ]
  },
  {
   "cell_type": "markdown",
   "id": "1bdcfbc1-7ed2-4c7e-82ae-0a72a004f362",
   "metadata": {},
   "source": [
    "First the model's performance by class and the average over all classes is evaluated. Second, Test Time Augmentaion is used to increase the model's performance."
   ]
  },
  {
   "cell_type": "code",
   "execution_count": 5,
   "id": "a774e49e-7619-4db2-979e-7c96689989f5",
   "metadata": {},
   "outputs": [],
   "source": [
    "def get_IoU_by_class(true, pred, class_, n_classes, threshold=0.5):\n",
    "    iou_scores=[]\n",
    "    classes=[]\n",
    "    true = np.argmax(true, axis=-1)\n",
    "    pred = np.argmax(pred, axis=-1)\n",
    "    true = tf.keras.utils.to_categorical(true, n_classes)\n",
    "    pred = tf.keras.utils.to_categorical(pred, n_classes)\n",
    "    \n",
    "    for i in class_:\n",
    "        smooth = 1e-5\n",
    "        true_ = true[:,:,:,i]\n",
    "        pred_ = pred[:,:,:,i]\n",
    "        pred_ = tf.cast(pred_, tf.float32)\n",
    "        true_ = tf.cast(true_, tf.float32)\n",
    "        intersection = np.logical_and(true_, pred_)\n",
    "        union = np.logical_or(true_, pred_)\n",
    "        iou_scores.append(np.mean((np.sum(intersection, axis=(1,2))+smooth)/(np.sum(union, axis=(1,2))+smooth))) # per image \n",
    "        classes.append(i)\n",
    "    avg_iou = sum(iou_scores)/len(iou_scores)\n",
    "    return iou_scores + [avg_iou]\n",
    "\n",
    "\n",
    "def get_F1score_by_class(true, pred, class_, n_classes, threshold=0.5):\n",
    "    f1_scores=[]\n",
    "    classes=[]\n",
    "    true = np.argmax(true, axis=-1)\n",
    "    pred = np.argmax(pred, axis=-1)\n",
    "    true = tf.keras.utils.to_categorical(true, n_classes)\n",
    "    pred = tf.keras.utils.to_categorical(pred, n_classes)\n",
    "    for i in class_:\n",
    "        smooth = 1e-5\n",
    "        true_ = true[:,:,:,i]\n",
    "        pred_ = pred[:,:,:,i]\n",
    "        pred_ = tf.cast(pred_, tf.float32)\n",
    "        true_ = tf.cast(true_, tf.float32)\n",
    "        intersection = np.logical_and(true_, pred_)\n",
    "        union = np.logical_or(true_, pred_)\n",
    "        f1_scores.append(np.mean((2*np.sum(intersection, axis=(1,2))+smooth) / (np.sum(union, axis=(1,2))+np.sum(intersection, axis=(1,2))+smooth))) # per image \n",
    "        classes.append(i)\n",
    "    avg_iou = sum(f1_scores)/len(f1_scores)\n",
    "    return f1_scores + [avg_iou]\n",
    "\n",
    "def get_ACC_by_class(true, pred, class_, n_classes, threshold=0.5):\n",
    "    ACC_scores=[]\n",
    "    classes=[]\n",
    "    true = np.argmax(true, axis=-1)\n",
    "    pred = np.argmax(pred, axis=-1)\n",
    "    true = tf.keras.utils.to_categorical(true, n_classes)\n",
    "    pred = tf.keras.utils.to_categorical(pred, n_classes)\n",
    "    for i in class_:\n",
    "        smooth = 1e-5\n",
    "        true_ = true[:,:,:,i]\n",
    "        pred_ = pred[:,:,:,i]\n",
    "        pred_ = tf.cast(pred_, tf.float32)\n",
    "        true_ = tf.cast(true_, tf.float32)\n",
    "        TP_TN = tf.cast(true_ == pred_, tf.float32)\n",
    "        TP_TN = np.sum(TP_TN, axis=(1,2)) # per image\n",
    "        demoniator = np.size(true_)/np.size(true_, axis=0)\n",
    "        accuracy = TP_TN / demoniator\n",
    "        ACC_scores.append(np.mean(accuracy))  \n",
    "        classes.append(i)\n",
    "    avg_acc = sum(ACC_scores)/len(ACC_scores)\n",
    "    return ACC_scores + [avg_acc]"
   ]
  },
  {
   "cell_type": "markdown",
   "id": "7f3f3179-56b1-4209-be8e-7fb033fd26ce",
   "metadata": {},
   "source": [
    "### Model performance without TTA"
   ]
  },
  {
   "cell_type": "markdown",
   "id": "1de9e348-4567-4c08-8d8b-b532324a8df3",
   "metadata": {
    "tags": []
   },
   "source": [
    "#### Model trained on CV1"
   ]
  },
  {
   "cell_type": "code",
   "execution_count": null,
   "id": "6c4c572e-c1fe-4249-a8d3-cbd847c1ba0c",
   "metadata": {},
   "outputs": [],
   "source": [
    "i = \"effnetb4_focc_jacc_10\" # model name\n",
    "m = \"effnetb4\" # name backbone\n",
    "batchsize = 8\n",
    "n_classes = 9\n",
    "lr = 0.0001\n",
    "decay = 0.000001\n",
    "\n",
    "\n",
    "metrics = [tf.keras.metrics.CategoricalAccuracy(name=\"cat_accuracy\"),\n",
    "           sm.metrics.IOUScore(threshold=0.5, class_indexes=[1,2,3,4,5,6,7,8]),\n",
    "           sm.metrics.FScore(threshold=0.5, class_indexes=[1,2,3,4,5,6,7,8]),\n",
    "           tf.keras.metrics.MeanIoU(num_classes=n_classes)]\n",
    "\n",
    "\n",
    "# Load test data\n",
    "test_img = np.load(dir_rs + \"Data_sets/image_segmentation/CV1_test_imgs_all_patch.npy\")\n",
    "test_mask = np.load(dir_rs + \"Data_sets/image_segmentation/CV1_test_mask_all_patch.npy\")\n",
    "\n",
    "\n",
    "with tf.device('/cpu:0'):  \n",
    "    ## Load U-net backbone\n",
    "    backbone_model = sm.Unet(\"efficientnetb4\", classes=9, encoder_weights=\"imagenet\", activation=\"softmax\")\n",
    "    # or if pregenerated\n",
    "    #backbone_model = keras.models.load_model(dir_ + \"u_net_models/model_u_%s_image_net_weights.hdf5\" %m)\n",
    "    \n",
    "    \n",
    "    ## Define loss    \n",
    "    focal_loss = sm.losses.CategoricalFocalLoss(class_indexes=[1,2,3,4,5,6,7,8])\n",
    "    jaccard_loss = sm.losses.JaccardLoss(class_indexes=[1,2,3,4,5,6,7,8])\n",
    "    \n",
    "    categorical_focal_jaccard_loss = focal_loss + jaccard_loss\n",
    "    \n",
    "\n",
    "    ## Define optimizer\n",
    "    optimizer = tfa.optimizers.AdamW(learning_rate=lr, weight_decay=decay)\n",
    "    \n",
    "    \n",
    "    ## Compile model\n",
    "    backbone_model.compile(optimizer=optimizer,\n",
    "                            loss=categorical_focal_jaccard_loss, \n",
    "                            metrics=metrics)\n",
    "    \n",
    "    \n",
    "    ## Load model weights\n",
    "    backbone_model.load_weights(dir_rs + \"/Data_sets/image_segmentation/u_net_models_mc/u_net_%s\" %i)\n",
    "    \n",
    "\n",
    "## Make predictions on test data\n",
    "pred_mask_CV1 = []\n",
    "\n",
    "with tf.device('/gpu:0'):\n",
    "    for i in range(0, len(test_img[:2])):\n",
    "        pred_mask_CV1.append(backbone_model.predict(np.expand_dims(test_img[i], axis=0)))\n",
    "        \n",
    "        \n",
    "## get model's performance\n",
    "IoU_CV1 = get_IoU_by_class(test_mask, np.array(pred_mask_CV1)[:,0,:,:,:], [1,2,3,4,5,6,7,8], n_classes)\n",
    "F1_CV1 = get_F1score_by_class(test_mask, np.array(pred_mask_CV1)[:,0,:,:,:], [1,2,3,4,5,6,7,8], n_classes)\n",
    "ACC_CV1 = get_ACC_by_class(test_mask, np.array(pred_mask_CV1)[:,0,:,:,:], [1,2,3,4,5,6,7,8], n_classes)"
   ]
  },
  {
   "cell_type": "markdown",
   "id": "85295eae-04db-4fa0-862c-c6f10ca689e4",
   "metadata": {
    "tags": []
   },
   "source": [
    "#### Model trained on CV2"
   ]
  },
  {
   "cell_type": "code",
   "execution_count": null,
   "id": "c59f7b35-d998-467d-a80d-07305aa105f2",
   "metadata": {},
   "outputs": [],
   "source": [
    "i = \"effnetb4_focc_jacc_11\" # model name\n",
    "m = \"effnetb4\" # name backbone\n",
    "batchsize = 8\n",
    "n_classes = 9\n",
    "lr = 0.0001\n",
    "decay = 0.000001\n",
    "\n",
    "\n",
    "metrics = [tf.keras.metrics.CategoricalAccuracy(name=\"cat_accuracy\"),\n",
    "           sm.metrics.IOUScore(threshold=0.5, class_indexes=[1,2,3,4,5,6,7,8]),\n",
    "           sm.metrics.FScore(threshold=0.5, class_indexes=[1,2,3,4,5,6,7,8]),\n",
    "           tf.keras.metrics.MeanIoU(num_classes=n_classes)]\n",
    "\n",
    "\n",
    "# Load test data\n",
    "test_img = np.load(dir_rs + \"Data_sets/image_segmentation/CV2_test_imgs_all_patch.npy\")\n",
    "test_mask = np.load(dir_rs + \"Data_sets/image_segmentation/CV2_test_mask_all_patch.npy\")\n",
    "\n",
    "\n",
    "with tf.device('/cpu:0'):  \n",
    "    ## Load U-net backbone\n",
    "    backbone_model = sm.Unet(\"efficientnetb4\", classes=9, encoder_weights=\"imagenet\", activation=\"softmax\")\n",
    "    # or if pregenerated\n",
    "    #backbone_model = keras.models.load_model(dir_ + \"u_net_models/model_u_%s_image_net_weights.hdf5\" %m)\n",
    "    \n",
    "    \n",
    "    ## Define loss    \n",
    "    focal_loss = sm.losses.CategoricalFocalLoss(class_indexes=[1,2,3,4,5,6,7,8])\n",
    "    jaccard_loss = sm.losses.JaccardLoss(class_indexes=[1,2,3,4,5,6,7,8])\n",
    "    \n",
    "    categorical_focal_jaccard_loss = focal_loss + jaccard_loss\n",
    "    \n",
    "\n",
    "    ## Define optimizer\n",
    "    optimizer = tfa.optimizers.AdamW(learning_rate=lr, weight_decay=decay)\n",
    "    \n",
    "    \n",
    "    ## Compile model\n",
    "    backbone_model.compile(optimizer=optimizer,\n",
    "                            loss=categorical_focal_jaccard_loss, \n",
    "                            metrics=metrics)\n",
    "    \n",
    "    \n",
    "    ## Load model weights\n",
    "    backbone_model.load_weights(dir_rs + \"image_segmentation/u_net_models_mc/u_net_%s\" %i)\n",
    "    \n",
    "\n",
    "## Make predictions on test data\n",
    "pred_mask_CV2 = []\n",
    "\n",
    "with tf.device('/gpu:0'):\n",
    "    for i in range(0, len(test_img)):\n",
    "        pred_mask_CV2.append(backbone_model.predict(np.expand_dims(test_img[i], axis=0)))\n",
    "        \n",
    "        \n",
    "## get model's performance\n",
    "IoU_CV2 = get_IoU_by_class(test_mask, np.array(pred_mask_CV2)[:,0,:,:,:], [1,2,3,4,5,6,7,8])\n",
    "F1_CV2 = get_F1score_by_class(test_mask, np.array(pred_mask_CV2)[:,0,:,:,:], [1,2,3,4,5,6,7,8])\n",
    "ACC_CV2 = get_ACC_by_class(test_mask, np.array(pred_mask_CV2)[:,0,:,:,:], [1,2,3,4,5,6,7,8], n_classes)"
   ]
  },
  {
   "cell_type": "markdown",
   "id": "daa5cfb4-8df1-4991-a426-10a4eb0988ec",
   "metadata": {
    "tags": []
   },
   "source": [
    "#### Model trained on CV3"
   ]
  },
  {
   "cell_type": "code",
   "execution_count": null,
   "id": "fab2a6a0-cabe-4750-b144-c6fc925d740e",
   "metadata": {},
   "outputs": [],
   "source": [
    "i = \"effnetb4_focc_jacc_12\" # model name\n",
    "m = \"effnetb4\" # name backbone\n",
    "batchsize = 8\n",
    "n_classes = 9\n",
    "lr = 0.0001\n",
    "decay = 0.000001\n",
    "\n",
    "\n",
    "metrics = [tf.keras.metrics.CategoricalAccuracy(name=\"cat_accuracy\"),\n",
    "           sm.metrics.IOUScore(threshold=0.5, class_indexes=[1,2,3,4,5,6,7,8]),\n",
    "           sm.metrics.FScore(threshold=0.5, class_indexes=[1,2,3,4,5,6,7,8]),\n",
    "           tf.keras.metrics.MeanIoU(num_classes=n_classes)]\n",
    "\n",
    "\n",
    "# Load test data\n",
    "test_img = np.load(dir_rs + \"Data_sets/image_segmentation/CV3_test_imgs_all_patch.npy\")\n",
    "test_mask = np.load(dir_rs + \"Data_sets/image_segmentation/CV3_test_mask_all_patch.npy\")\n",
    "\n",
    "\n",
    "with tf.device('/cpu:0'):  \n",
    "    ## Load U-net backbone\n",
    "    backbone_model = keras.models.load_model(dir_rs +  \"u_net_models/model_u_%s_image_net_weights.hdf5\" %m)\n",
    "    \n",
    "    \n",
    "    ## Define loss    \n",
    "    focal_loss = sm.losses.CategoricalFocalLoss(class_indexes=[1,2,3,4,5,6,7,8])\n",
    "    jaccard_loss = sm.losses.JaccardLoss(class_indexes=[1,2,3,4,5,6,7,8])\n",
    "    \n",
    "    categorical_focal_jaccard_loss = focal_loss + jaccard_loss\n",
    "    \n",
    "\n",
    "    ## Define optimizer\n",
    "    optimizer = tfa.optimizers.AdamW(learning_rate=lr, weight_decay=decay)\n",
    "    \n",
    "    \n",
    "    ## Compile model\n",
    "    backbone_model.compile(optimizer=optimizer,\n",
    "                            loss=categorical_focal_jaccard_loss, \n",
    "                            metrics=metrics)\n",
    "    \n",
    "    \n",
    "    ## Load model weights\n",
    "    backbone_model.load_weights(dir_rs + \"Data_sets/image_segmentation/u_net_models_mc/u_net_%s\" %i)\n",
    "    \n",
    "\n",
    "## Make predictions on test data\n",
    "pred_mask_CV3 = []\n",
    "\n",
    "with tf.device('/gpu:0'):\n",
    "    for i in range(0, len(test_img)):\n",
    "        pred_mask_CV3.append(backbone_model.predict(np.expand_dims(test_img[i], axis=0)))\n",
    "        \n",
    "        \n",
    "## get model's performance\n",
    "IoU_CV3 = get_IoU_by_class(test_mask, np.array(pred_mask_CV3)[:,0,:,:,:], [1,2,3,4,5,6,7,8])\n",
    "F1_CV3 = get_F1score_by_class(test_mask, np.array(pred_mask_CV3)[:,0,:,:,:], [1,2,3,4,5,6,7,8])\n",
    "ACC_CV3 = get_ACC_by_class(test_mask, np.array(pred_mask_CV3)[:,0,:,:,:], [1,2,3,4,5,6,7,8], n_classes)"
   ]
  },
  {
   "cell_type": "markdown",
   "id": "134275d3-7cad-4450-b33b-227d514b670d",
   "metadata": {
    "tags": []
   },
   "source": [
    "#### Model trained on CV4"
   ]
  },
  {
   "cell_type": "code",
   "execution_count": null,
   "id": "42bb3866-b8f3-42b6-b4c1-50e2f7049e43",
   "metadata": {
    "tags": []
   },
   "outputs": [],
   "source": [
    "i = \"effnetb4_focc_jacc_13\" # model name\n",
    "m = \"effnetb4\" # name backbone\n",
    "batchsize = 8\n",
    "n_classes = 9\n",
    "lr = 0.0001\n",
    "decay = 0.000001\n",
    "\n",
    "\n",
    "metrics = [tf.keras.metrics.CategoricalAccuracy(name=\"cat_accuracy\"),\n",
    "           sm.metrics.IOUScore(threshold=0.5, class_indexes=[1,2,3,4,5,6,7,8]),\n",
    "           sm.metrics.FScore(threshold=0.5, class_indexes=[1,2,3,4,5,6,7,8]),\n",
    "           tf.keras.metrics.MeanIoU(num_classes=n_classes)]\n",
    "\n",
    "\n",
    "# Load test data\n",
    "test_img = np.load(dir_rs + \"Data_sets/image_segmentation/CV4_test_imgs_all_patch.npy\")\n",
    "test_mask = np.load(dir_rs + \"Data_sets/image_segmentation/CV4_test_mask_all_patch.npy\")\n",
    "\n",
    "\n",
    "with tf.device('/cpu:0'):  \n",
    "    ## Load U-net backbone\n",
    "    backbone_model = sm.Unet(\"efficientnetb4\", classes=9, encoder_weights=\"imagenet\", activation=\"softmax\")\n",
    "    # or if pregenerated\n",
    "    #backbone_model = keras.models.load_model(dir_ + \"u_net_models/model_u_%s_image_net_weights.hdf5\" %m)\n",
    "    \n",
    "    \n",
    "    ## Define loss    \n",
    "    focal_loss = sm.losses.CategoricalFocalLoss(class_indexes=[1,2,3,4,5,6,7,8])\n",
    "    jaccard_loss = sm.losses.JaccardLoss(class_indexes=[1,2,3,4,5,6,7,8])\n",
    "    \n",
    "    categorical_focal_jaccard_loss = focal_loss + jaccard_loss\n",
    "    \n",
    "\n",
    "    ## Define optimizer\n",
    "    optimizer = tfa.optimizers.AdamW(learning_rate=lr, weight_decay=decay)\n",
    "    \n",
    "    \n",
    "    ## Compile model\n",
    "    backbone_model.compile(optimizer=optimizer,\n",
    "                            loss=categorical_focal_jaccard_loss, \n",
    "                            metrics=metrics)\n",
    "    \n",
    "    \n",
    "    ## Load model weights\n",
    "    backbone_model.load_weights(dir_rs + \"image_segmentation/u_net_models_mc/u_net_%s\" %i)\n",
    "    \n",
    "\n",
    "## Make predictions on test data\n",
    "pred_mask_CV4 = []\n",
    "\n",
    "with tf.device('/gpu:0'):\n",
    "    for i in range(0, len(test_img)):\n",
    "        pred_mask_CV4.append(backbone_model.predict(np.expand_dims(test_img[i], axis=0)))\n",
    "        \n",
    "        \n",
    "## get model's performance\n",
    "IoU_CV4 = get_IoU_by_class(test_mask, np.array(pred_mask_CV4)[:,0,:,:,:], [1,2,3,4,5,6,7,8])\n",
    "F1_CV4 = get_F1score_by_class(test_mask, np.array(pred_mask_CV4)[:,0,:,:,:], [1,2,3,4,5,6,7,8])\n",
    "ACC_CV4 = get_ACC_by_class(test_mask, np.array(pred_mask_CV4)[:,0,:,:,:], [1,2,3,4,5,6,7,8], n_classes)"
   ]
  },
  {
   "cell_type": "markdown",
   "id": "60f87702-4f4d-434e-aa1e-e92f70e09ee9",
   "metadata": {
    "tags": []
   },
   "source": [
    "#### Model trained on CV5"
   ]
  },
  {
   "cell_type": "code",
   "execution_count": null,
   "id": "ea140c68-0abb-45a7-b772-8f04679cb11e",
   "metadata": {},
   "outputs": [],
   "source": [
    "i = \"effnetb4_focc_jacc_14\" # model name\n",
    "m = \"effnetb4\" # name backbone\n",
    "batchsize = 8\n",
    "n_classes = 9\n",
    "lr = 0.0001\n",
    "decay = 0.000001\n",
    "\n",
    "\n",
    "metrics = [tf.keras.metrics.CategoricalAccuracy(name=\"cat_accuracy\"),\n",
    "           sm.metrics.IOUScore(threshold=0.5, class_indexes=[1,2,3,4,5,6,7,8]),\n",
    "           sm.metrics.FScore(threshold=0.5, class_indexes=[1,2,3,4,5,6,7,8]),\n",
    "           tf.keras.metrics.MeanIoU(num_classes=n_classes)]\n",
    "\n",
    "\n",
    "# Load test data\n",
    "test_img = np.load(dir_rs + \"image_segmentation/CV5_test_imgs_all_patch.npy\")\n",
    "test_mask = np.load(dir_rs + \"image_segmentation/CV5_test_mask_all_patch.npy\")\n",
    "\n",
    "\n",
    "with tf.device('/cpu:0'):  \n",
    "    ## Load U-net backbone\n",
    "    backbone_model = sm.Unet(\"efficientnetb4\", classes=9, encoder_weights=\"imagenet\", activation=\"softmax\")\n",
    "    # or if pregenerated\n",
    "    #backbone_model = keras.models.load_model(dir_ + \"u_net_models/model_u_%s_image_net_weights.hdf5\" %m)\n",
    "    \n",
    "    \n",
    "    ## Define loss    \n",
    "    focal_loss = sm.losses.CategoricalFocalLoss(class_indexes=[1,2,3,4,5,6,7,8])\n",
    "    jaccard_loss = sm.losses.JaccardLoss(class_indexes=[1,2,3,4,5,6,7,8])\n",
    "    \n",
    "    categorical_focal_jaccard_loss = focal_loss + jaccard_loss \n",
    "    \n",
    "\n",
    "    ## Define optimizer\n",
    "    optimizer = tfa.optimizers.AdamW(learning_rate=lr, weight_decay=decay)\n",
    "    \n",
    "    \n",
    "    ## Compile model\n",
    "    backbone_model.compile(optimizer=optimizer,\n",
    "                            loss=categorical_focal_jaccard_loss, \n",
    "                            metrics=metrics)\n",
    "    \n",
    "    \n",
    "    ## Load model weights\n",
    "    backbone_model.load_weights(dir_rs + \"image_segmentation/u_net_models_mc/u_net_%s\" %i)\n",
    "    \n",
    "\n",
    "## Make predictions on test data\n",
    "pred_mask_CV5 = []\n",
    "\n",
    "with tf.device('/gpu:0'):\n",
    "    for i in range(0, len(test_img)):\n",
    "        pred_mask_CV5.append(backbone_model.predict(np.expand_dims(test_img[i], axis=0)))\n",
    "        \n",
    "        \n",
    "## get model's performance\n",
    "IoU_CV5 = get_IoU_by_class(test_mask, np.array(pred_mask_CV5)[:,0,:,:,:], [1,2,3,4,5,6,7,8])\n",
    "F1_CV5 = get_F1score_by_class(test_mask, np.array(pred_mask_CV5)[:,0,:,:,:], [1,2,3,4,5,6,7,8])\n",
    "ACC_CV5 = get_ACC_by_class(test_mask, np.array(pred_mask_CV5)[:,0,:,:,:], [1,2,3,4,5,6,7,8], n_classes)"
   ]
  },
  {
   "cell_type": "markdown",
   "id": "963a77e2-0549-43bb-8758-f62a38e8bbe4",
   "metadata": {},
   "source": [
    "#### Averaging model performance over folds"
   ]
  },
  {
   "cell_type": "code",
   "execution_count": 21,
   "id": "c7f82d6d-d6c6-4d84-af0d-d8273efbb901",
   "metadata": {},
   "outputs": [
    {
     "data": {
      "text/plain": [
       "[('bareland', 0.5369794186902821),\n",
       " ('rangeland', 0.5381745709464776),\n",
       " ('developed space', 0.5621222821505544),\n",
       " ('road', 0.6209278440719516),\n",
       " ('tree', 0.6944119354642113),\n",
       " ('water', 0.8549387903516056),\n",
       " ('agriculture land', 0.7774431699644316),\n",
       " ('buildings', 0.7984762882616199),\n",
       " ('avg', 0.6729342874876418)]"
      ]
     },
     "execution_count": 21,
     "metadata": {},
     "output_type": "execute_result"
    }
   ],
   "source": [
    "#IoU score\n",
    "IoU_CV_avg = list(zip(IoU_CV1,IoU_CV2,IoU_CV3,IoU_CV4,IoU_CV5))\n",
    "list(zip([\"bareland\",\"rangeland\",\"developed space\",\"road\",\"tree\",\"water\",\"agriculture land\",\"buildings\",\"avg\"], [np.mean(x) for x in IoU_CV_avg]))"
   ]
  },
  {
   "cell_type": "code",
   "execution_count": 22,
   "id": "67677f93-17a5-4c18-90f6-4ab617e162a7",
   "metadata": {},
   "outputs": [
    {
     "data": {
      "text/plain": [
       "[('bareland', 0.6982733088966855),\n",
       " ('rangeland', 0.699729834134267),\n",
       " ('developed space', 0.7196404188953878),\n",
       " ('road', 0.7661225501391034),\n",
       " ('tree', 0.8196324560082179),\n",
       " ('water', 0.9217879205235944),\n",
       " ('agriculture land', 0.8747812585017284),\n",
       " ('buildings', 0.8879468964032171),\n",
       " ('avg', 0.7984893304377751)]"
      ]
     },
     "execution_count": 22,
     "metadata": {},
     "output_type": "execute_result"
    }
   ],
   "source": [
    "# F1 score\n",
    "F1_CV_avg = list(zip(F1_CV1,F1_CV2,F1_CV3,F1_CV4,F1_CV5))\n",
    "list(zip([\"bareland\",\"rangeland\",\"developed space\",\"road\",\"tree\",\"water\",\"agriculture land\",\"buildings\",\"avg\"], [np.mean(x) for x in F1_CV_avg]))"
   ]
  },
  {
   "cell_type": "markdown",
   "id": "9e779181-a0bc-430b-ac3b-7fc48efefa0b",
   "metadata": {},
   "source": [
    "### Model performance with TTA"
   ]
  },
  {
   "cell_type": "markdown",
   "id": "6513c2ed-524d-48e2-93c9-3e04c563f7b4",
   "metadata": {},
   "source": [
    "Test time augmentation is used to further increase the model's performance. The regular aspect ration of the image is used, a left-right, up-down, and a combination of left-rigth and up-down flip are used for augmentation."
   ]
  },
  {
   "cell_type": "code",
   "execution_count": 2,
   "id": "9bae9e12-e03b-4e85-bab8-0d2c1647f881",
   "metadata": {},
   "outputs": [],
   "source": [
    "def test_time_augmentation(imgs):\n",
    "    pred_mask=[]\n",
    "    \n",
    "    for i in range(0, len(imgs)):\n",
    "        p0 = backbone_model.predict(np.expand_dims(imgs[i], axis=0))[0]\n",
    "        \n",
    "        p1 = backbone_model.predict(np.expand_dims(np.fliplr(imgs[i]), axis=0))[0]\n",
    "        p1 = np.fliplr(p1)\n",
    "        \n",
    "        p2 = backbone_model.predict(np.expand_dims(np.flipud(imgs[i]), axis=0))[0]\n",
    "        p2 = np.flipud(p2)\n",
    "        \n",
    "        p3 = backbone_model.predict(np.expand_dims(np.fliplr(np.flipud(imgs[i])), axis=0))[0]\n",
    "        p3 = np.fliplr(np.flipud(p3))\n",
    "        \n",
    "        avg_pred = (p0 + p1 + p2 + p3)/4\n",
    "        pred_mask.append(avg_pred)\n",
    "    return pred_mask"
   ]
  },
  {
   "cell_type": "markdown",
   "id": "ebedbfea-096b-49b5-96de-62af2f7195c5",
   "metadata": {},
   "source": [
    "#### Examin model callibration"
   ]
  },
  {
   "cell_type": "code",
   "execution_count": null,
   "id": "6fbb8ce9-5d25-4129-bc57-3a7b3d8be24c",
   "metadata": {},
   "outputs": [],
   "source": [
    "def pixel_accuracy(y_hat, y):\n",
    "    acc = np.sum(y_hat == y)/len(y.flatten())\n",
    "    return acc\n",
    "\n",
    "def model_calibration(y_hat, y):\n",
    "    bins = np.array([0.1, 0.2, 0.3, 0.4, 0.5, 0.6, 0.7, 0.8, 0.9, 1.0])\n",
    "    y_hat = np.asarray(y_hat)\n",
    "    y_hat_label = np.argmax(y_hat, axis=-1)\n",
    "    y_label = np.argmax(y, axis=-1)\n",
    "    acc = pixel_accuracy(y_hat_label, y_label)\n",
    "    pred_conf = np.amax(y_hat, axis=3).flatten()\n",
    "    avg_conf = np.mean(pred_conf)\n",
    "    pred_conf_binned = np.digitize(pred_conf, bins, right=True)\n",
    "    TP_TN = np.where((y_hat_label.flatten() == y_label.flatten())==True, 1, 0)\n",
    "    combined_array = np.concatenate([pred_conf_binned.reshape(-1,1), TP_TN.reshape(-1,1), pred_conf.reshape(-1,1)], axis=1)\n",
    "    means = {}\n",
    "    for i in np.unique(combined_array[:,0]):\n",
    "        group = combined_array[np.where(combined_array[:,0]==i)]\n",
    "        means[i] = (np.mean(group[:,1]), np.mean(group[:,2]), len(group))\n",
    "        \n",
    "    ECE = []\n",
    "    for key in means.keys():\n",
    "        ECE.append((means.get(key)[2]/len(combined_array)) * abs(means.get(key)[0] - means.get(key)[1]))\n",
    "    ECE = sum(ECE)*100\n",
    "    return acc, avg_conf, ECE, pred_conf, means"
   ]
  },
  {
   "cell_type": "markdown",
   "id": "ba08391d-9d72-4f23-968e-11bb9fda43a2",
   "metadata": {
    "tags": []
   },
   "source": [
    "#### Model trained on CV1 (TTA)"
   ]
  },
  {
   "cell_type": "code",
   "execution_count": null,
   "id": "8e302588-a5ca-477e-a777-047dfb6e3b6f",
   "metadata": {},
   "outputs": [],
   "source": [
    "i = \"effnetb4_focc_jacc_10\" # model name\n",
    "m = \"effnetb4\" # name backbone\n",
    "batchsize = 8\n",
    "n_classes = 9\n",
    "lr = 0.0001\n",
    "decay = 0.000001\n",
    "\n",
    "\n",
    "metrics = [tf.keras.metrics.CategoricalAccuracy(name=\"cat_accuracy\"),\n",
    "           sm.metrics.IOUScore(threshold=0.5, class_indexes=[1,2,3,4,5,6,7,8]),\n",
    "           sm.metrics.FScore(threshold=0.5, class_indexes=[1,2,3,4,5,6,7,8]),\n",
    "           tf.keras.metrics.MeanIoU(num_classes=n_classes)]\n",
    "\n",
    "\n",
    "# Load test data\n",
    "test_img = np.load(dir_rs + \"Data_sets/image_segmentation/CV1_test_imgs_all_patch.npy\")\n",
    "test_mask = np.load(dir_rs + \"Data_sets/image_segmentation/CV1_test_mask_all_patch.npy\")\n",
    "\n",
    "\n",
    "with tf.device('/cpu:0'):  \n",
    "    ## Load U-net backbone\n",
    "    backbone_model = sm.Unet(\"efficientnetb4\", classes=9, encoder_weights=\"imagenet\", activation=\"softmax\")\n",
    "    # or if pregenerated\n",
    "    #backbone_model = keras.models.load_model(dir_ + \"u_net_models/model_u_%s_image_net_weights.hdf5\" %m)\n",
    "    \n",
    "    \n",
    "    ## Define loss    \n",
    "    focal_loss = sm.losses.CategoricalFocalLoss(class_indexes=[1,2,3,4,5,6,7,8])\n",
    "    jaccard_loss = sm.losses.JaccardLoss(class_indexes=[1,2,3,4,5,6,7,8])\n",
    "    \n",
    "    categorical_focal_jaccard_loss = focal_loss + jaccard_loss\n",
    "    \n",
    "\n",
    "    ## Define optimizer\n",
    "    optimizer = tfa.optimizers.AdamW(learning_rate=lr, weight_decay=decay)\n",
    "    \n",
    "    \n",
    "    ## Compile model\n",
    "    backbone_model.compile(optimizer=optimizer,\n",
    "                            loss=categorical_focal_jaccard_loss, \n",
    "                            metrics=metrics)\n",
    "    \n",
    "    \n",
    "    ## Load model weights\n",
    "    backbone_model.load_weights(dir_rs + \"/Data_sets/image_segmentation/u_net_models_mc/u_net_%s\" %i)\n",
    "    \n",
    "\n",
    "## Make predictions on test data\n",
    "with tf.device('/gpu:0'):\n",
    "    pred_mask_CV1 = test_time_augmentation(test_img)\n",
    "    \n",
    "## get model's performance\n",
    "with tf.device('/cpu:0'):   \n",
    "    IoU_CV1 = get_IoU_by_class(test_mask_1, np.array(pred_mask_CV1)[:,:,:,:], [1,2,3,4,5,6,7,8], n_classes)\n",
    "    F1_CV1 = get_F1score_by_class(test_mask_1, np.array(pred_mask_CV1)[:,:,:,:], [1,2,3,4,5,6,7,8], n_classes)\n",
    "    ACC_CV1 = get_ACC_by_class(test_mask_1, np.array(pred_mask_CV1)[:,:,:,:], [1,2,3,4,5,6,7,8], n_classes)"
   ]
  },
  {
   "cell_type": "code",
   "execution_count": 95,
   "id": "72b78a54-4c0a-41be-9ece-7bf99d74b8c5",
   "metadata": {},
   "outputs": [],
   "source": [
    "accuracy_CV1, avg_conf_CV1, ECE_CV1, pred_conf_CV1, means_CV1 = model_calibration(pred_mask_CV1, test_mask_1)"
   ]
  },
  {
   "cell_type": "code",
   "execution_count": 96,
   "id": "9d49e1c9-6639-489d-adc6-c7fe0664b4bc",
   "metadata": {},
   "outputs": [
    {
     "name": "stdout",
     "output_type": "stream",
     "text": [
      "Accuracy: 0.7901688629183276\n",
      "Avg. confidence: 0.92019767\n",
      "ECE: 13.002548417158815\n"
     ]
    }
   ],
   "source": [
    "print(\"Accuracy:\", accuracy_CV1)\n",
    "print(\"Avg. confidence:\", avg_conf_CV1)\n",
    "print(\"ECE:\", ECE_CV1)"
   ]
  },
  {
   "cell_type": "code",
   "execution_count": 82,
   "id": "d6ac8d7a-8c6f-4dc3-89cb-08fe0a44900f",
   "metadata": {},
   "outputs": [
    {
     "data": {
      "image/png": "[encoded data removed]",
      "text/plain": [
       "<Figure size 400x400 with 1 Axes>"
      ]
     },
     "metadata": {
      "needs_background": "light"
     },
     "output_type": "display_data"
    }
   ],
   "source": [
    "plt.figure(figsize=(5, 5), dpi=80)\n",
    "plt.hist(pred_conf_CV1, bins=20, weights=np.ones_like(pred_conf_CV1)/len(pred_conf_CV1), color=\"blue\", edgecolor=\"gray\", alpha=0.8)\n",
    "plt.axvline(x=0.79, color=\"gray\", linestyle=\"dashed\")\n",
    "plt.text(0.75, 0.35, \"Accuracy\", fontsize=12, rotation=90)\n",
    "plt.axvline(x=0.92, color=\"gray\", linestyle=\"dashed\")\n",
    "plt.text(0.88, 0.35, \"Avg. confidence\", fontsize=12, rotation=90)           \n",
    "plt.xlim(0,1)\n",
    "plt.ylim(0,0.8)\n",
    "plt.ylabel(\"Proportion of samples\")\n",
    "plt.savefig(\"H:/Sebastian_Bahr/PhD/2_Publication/Crime_and_ML/Data_happiness/visualization/ECE_fold1.png\", dpi=600, facecolor=\"white\", bbox_inches=\"tight\")\n",
    "plt.show()"
   ]
  },
  {
   "cell_type": "code",
   "execution_count": 89,
   "id": "57d0724d-9324-4fd1-bb35-627fc4624107",
   "metadata": {},
   "outputs": [
    {
     "data": {
      "image/png": "[encoded data removed]",
      "text/plain": [
       "<Figure size 400x400 with 1 Axes>"
      ]
     },
     "metadata": {
      "needs_background": "light"
     },
     "output_type": "display_data"
    }
   ],
   "source": [
    "fold = means_CV1\n",
    "acc = [fold.get(key)[0] for key in fold.keys()]\n",
    "conf = [fold.get(key)[1] for key in fold.keys()]\n",
    "bucket = [(x/10)+0.05 for x in list(fold.keys())]\n",
    "\n",
    "plt.figure(figsize=(5, 5), dpi=80)\n",
    "plt.bar(x=bucket, height=conf, width=0.1, color=\"red\", edgecolor=\"gray\", alpha=0.3, label=\"gap\")\n",
    "plt.bar(x=bucket, height=acc, width=0.1, color=\"blue\", edgecolor=\"gray\", alpha=0.8, label=\"outputs\")\n",
    "plt.axline((1, 1), slope=1, linestyle=\"dashed\", color=\"gray\")\n",
    "plt.ylim(0,1)\n",
    "plt.xlim(0,1)\n",
    "plt.ylabel(\"Accuracy\")\n",
    "plt.xlabel(\"Confidence\")\n",
    "plt.legend()\n",
    "plt.show()"
   ]
  },
  {
   "cell_type": "markdown",
   "id": "b617c4a2-6e86-49c8-8988-3f12be9ffff6",
   "metadata": {},
   "source": [
    "#### Model trained on CV2 (TTA)"
   ]
  },
  {
   "cell_type": "code",
   "execution_count": null,
   "id": "dc53f375-5d5d-4f64-ad15-944b29324cff",
   "metadata": {},
   "outputs": [],
   "source": [
    "i = \"effnetb4_focc_jacc_11\" # model name\n",
    "m = \"effnetb4\" # name backbone\n",
    "batchsize = 8\n",
    "n_classes = 9\n",
    "lr = 0.0001\n",
    "decay = 0.000001\n",
    "\n",
    "\n",
    "metrics = [tf.keras.metrics.CategoricalAccuracy(name=\"cat_accuracy\"),\n",
    "           sm.metrics.IOUScore(threshold=0.5, class_indexes=[1,2,3,4,5,6,7,8]),\n",
    "           sm.metrics.FScore(threshold=0.5, class_indexes=[1,2,3,4,5,6,7,8]),\n",
    "           tf.keras.metrics.MeanIoU(num_classes=n_classes)]\n",
    "\n",
    "\n",
    "# Load test data\n",
    "test_img = np.load(dir_rs + \"Data_sets/image_segmentation/CV2_test_imgs_all_patch.npy\")\n",
    "test_mask = np.load(dir_rs + \"Data_sets/image_segmentation/CV2_test_mask_all_patch.npy\")\n",
    "\n",
    "\n",
    "with tf.device('/cpu:0'):  \n",
    "    ## Load U-net backbone\n",
    "    backbone_model = sm.Unet(\"efficientnetb4\", classes=9, encoder_weights=\"imagenet\", activation=\"softmax\")\n",
    "    # or if pregenerated\n",
    "    #backbone_model = keras.models.load_model(dir_ + \"u_net_models/model_u_%s_image_net_weights.hdf5\" %m)\n",
    "    \n",
    "    \n",
    "    ## Define loss    \n",
    "    focal_loss = sm.losses.CategoricalFocalLoss(class_indexes=[1,2,3,4,5,6,7,8])\n",
    "    jaccard_loss = sm.losses.JaccardLoss(class_indexes=[1,2,3,4,5,6,7,8])\n",
    "    \n",
    "    categorical_focal_jaccard_loss = focal_loss + jaccard_loss\n",
    "    \n",
    "\n",
    "    ## Define optimizer\n",
    "    optimizer = tfa.optimizers.AdamW(learning_rate=lr, weight_decay=decay)\n",
    "    \n",
    "    \n",
    "    ## Compile model\n",
    "    backbone_model.compile(optimizer=optimizer,\n",
    "                            loss=categorical_focal_jaccard_loss, \n",
    "                            metrics=metrics)\n",
    "    \n",
    "    \n",
    "    ## Load model weights\n",
    "    backbone_model.load_weights(dir_rs + \"image_segmentation/u_net_models_mc/u_net_%s\" %i)\n",
    "    \n",
    "\n",
    "## Make predictions on test data\n",
    "with tf.device('/gpu:0'):\n",
    "    pred_mask_CV2 = test_time_augmentation(test_img)\n",
    "    \n",
    "    \n",
    "with tf.device(\"/cpu:0\"):\n",
    "    IoU_CV2 = get_IoU_by_class(test_mask_2, np.array(pred_mask_CV2)[:,:,:,:], [1,2,3,4,5,6,7,8], n_classes)\n",
    "    F1_CV2 = get_F1score_by_class(test_mask_2, np.array(pred_mask_CV2)[:,:,:,:], [1,2,3,4,5,6,7,8], n_classes)\n",
    "    ACC_CV2 = get_ACC_by_class(test_mask_2, np.array(pred_mask_CV2)[:,:,:,:], [1,2,3,4,5,6,7,8], n_classes)"
   ]
  },
  {
   "cell_type": "code",
   "execution_count": 95,
   "id": "edab2c4f-ac9d-4e6f-9977-c98192e2cf02",
   "metadata": {},
   "outputs": [],
   "source": [
    "accuracy_CV1, avg_conf_CV1, ECE_CV1, pred_conf_CV1, means_CV1 = model_calibration(pred_mask_CV1, test_mask_1)"
   ]
  },
  {
   "cell_type": "code",
   "execution_count": 96,
   "id": "eae32453-b9a3-4822-9668-a1a155cf51f0",
   "metadata": {},
   "outputs": [
    {
     "name": "stdout",
     "output_type": "stream",
     "text": [
      "Accuracy: 0.7901688629183276\n",
      "Avg. confidence: 0.92019767\n",
      "ECE: 13.002548417158815\n"
     ]
    }
   ],
   "source": [
    "print(\"Accuracy:\", accuracy_CV1)\n",
    "print(\"Avg. confidence:\", avg_conf_CV1)\n",
    "print(\"ECE:\", ECE_CV1)"
   ]
  },
  {
   "cell_type": "code",
   "execution_count": null,
   "id": "70fae967-d85b-4ef4-a9a1-cae5de5a18b4",
   "metadata": {},
   "outputs": [],
   "source": [
    "with tf.device(\"/cpu:0\"):\n",
    "    IoU_CV2 = get_IoU_by_class(test_mask_2, np.array(pred_mask_CV2)[:,:,:,:], [1,2,3,4,5,6,7,8], n_classes)\n",
    "    F1_CV2 = get_F1score_by_class(test_mask_2, np.array(pred_mask_CV2)[:,:,:,:], [1,2,3,4,5,6,7,8], n_classes)\n",
    "    ACC_CV2 = get_ACC_by_class(test_mask_2, np.array(pred_mask_CV2)[:,:,:,:], [1,2,3,4,5,6,7,8], n_classes)"
   ]
  },
  {
   "cell_type": "markdown",
   "id": "06200c58-48a8-4ae6-b9c8-5ceffdc19925",
   "metadata": {},
   "source": [
    "#### Model trained on CV3 (TTA)"
   ]
  },
  {
   "cell_type": "code",
   "execution_count": null,
   "id": "9916dafb-a449-40cb-ae79-ac2c04c4ba57",
   "metadata": {},
   "outputs": [],
   "source": [
    "i = \"effnetb4_focc_jacc_12\" # model name\n",
    "m = \"effnetb4\" # name backbone\n",
    "batchsize = 8\n",
    "n_classes = 9\n",
    "lr = 0.0001\n",
    "decay = 0.000001\n",
    "\n",
    "\n",
    "metrics = [tf.keras.metrics.CategoricalAccuracy(name=\"cat_accuracy\"),\n",
    "           sm.metrics.IOUScore(threshold=0.5, class_indexes=[1,2,3,4,5,6,7,8]),\n",
    "           sm.metrics.FScore(threshold=0.5, class_indexes=[1,2,3,4,5,6,7,8]),\n",
    "           tf.keras.metrics.MeanIoU(num_classes=n_classes)]\n",
    "\n",
    "\n",
    "# Load test data\n",
    "test_img = np.load(dir_rs + \"Data_sets/image_segmentation/CV3_test_imgs_all_patch.npy\")\n",
    "test_mask = np.load(dir_rs + \"Data_sets/image_segmentation/CV3_test_mask_all_patch.npy\")\n",
    "\n",
    "\n",
    "with tf.device('/cpu:0'):  \n",
    "    ## Load U-net backbone\n",
    "    backbone_model = keras.models.load_model(dir_rs +  \"u_net_models/model_u_%s_image_net_weights.hdf5\" %m)\n",
    "    \n",
    "    \n",
    "    ## Define loss    \n",
    "    focal_loss = sm.losses.CategoricalFocalLoss(class_indexes=[1,2,3,4,5,6,7,8])\n",
    "    jaccard_loss = sm.losses.JaccardLoss(class_indexes=[1,2,3,4,5,6,7,8])\n",
    "    \n",
    "    categorical_focal_jaccard_loss = focal_loss + jaccard_loss\n",
    "    \n",
    "\n",
    "    ## Define optimizer\n",
    "    optimizer = tfa.optimizers.AdamW(learning_rate=lr, weight_decay=decay)\n",
    "    \n",
    "    \n",
    "    ## Compile model\n",
    "    backbone_model.compile(optimizer=optimizer,\n",
    "                            loss=categorical_focal_jaccard_loss, \n",
    "                            metrics=metrics)\n",
    "    \n",
    "    \n",
    "    ## Load model weights\n",
    "    backbone_model.load_weights(dir_rs + \"Data_sets/image_segmentation/u_net_models_mc/u_net_%s\" %i)\n",
    "    \n",
    "\n",
    "## Make predictions on test data\n",
    "with tf.device('/gpu:0'):\n",
    "    pred_mask_CV3 = test_time_augmentation(test_img)\n",
    "    \n",
    "    \n",
    "## get model's performance\n",
    "with tf.device(\"/cpu:0\"):\n",
    "    IoU_CV3 = get_IoU_by_class(test_mask_3, np.array(pred_mask_CV3)[:,:,:,:], [1,2,3,4,5,6,7,8], n_classes)\n",
    "    F1_CV3 = get_F1score_by_class(test_mask_3, np.array(pred_mask_CV3)[:,:,:,:], [1,2,3,4,5,6,7,8], n_classes)\n",
    "    ACC_CV3 = get_ACC_by_class(test_mask_3, np.array(pred_mask_CV3)[:,:,:,:], [1,2,3,4,5,6,7,8], n_classes)"
   ]
  },
  {
   "cell_type": "code",
   "execution_count": 95,
   "id": "013b44c6-cbb9-4e52-b5db-b927c0e31a85",
   "metadata": {},
   "outputs": [],
   "source": [
    "accuracy_CV1, avg_conf_CV1, ECE_CV1, pred_conf_CV1, means_CV1 = model_calibration(pred_mask_CV1, test_mask_1)"
   ]
  },
  {
   "cell_type": "code",
   "execution_count": 96,
   "id": "666a8d20-acdb-451f-a07d-c9c3ab27ce7e",
   "metadata": {},
   "outputs": [
    {
     "name": "stdout",
     "output_type": "stream",
     "text": [
      "Accuracy: 0.7901688629183276\n",
      "Avg. confidence: 0.92019767\n",
      "ECE: 13.002548417158815\n"
     ]
    }
   ],
   "source": [
    "print(\"Accuracy:\", accuracy_CV1)\n",
    "print(\"Avg. confidence:\", avg_conf_CV1)\n",
    "print(\"ECE:\", ECE_CV1)"
   ]
  },
  {
   "cell_type": "markdown",
   "id": "79a08258-417b-4b3f-9428-3936966e30a3",
   "metadata": {},
   "source": [
    "#### Model trained on CV4 (TTA)"
   ]
  },
  {
   "cell_type": "code",
   "execution_count": null,
   "id": "d122b5a8-e3c4-41af-b7af-c1c8e7feae73",
   "metadata": {},
   "outputs": [],
   "source": [
    "i = \"effnetb4_focc_jacc_13\" # model name\n",
    "m = \"effnetb4\" # name backbone\n",
    "batchsize = 8\n",
    "n_classes = 9\n",
    "lr = 0.0001\n",
    "decay = 0.000001\n",
    "\n",
    "\n",
    "metrics = [tf.keras.metrics.CategoricalAccuracy(name=\"cat_accuracy\"),\n",
    "           sm.metrics.IOUScore(threshold=0.5, class_indexes=[1,2,3,4,5,6,7,8]),\n",
    "           sm.metrics.FScore(threshold=0.5, class_indexes=[1,2,3,4,5,6,7,8]),\n",
    "           tf.keras.metrics.MeanIoU(num_classes=n_classes)]\n",
    "\n",
    "\n",
    "# Load test data\n",
    "test_img = np.load(dir_rs + \"Data_sets/image_segmentation/CV4_test_imgs_all_patch.npy\")\n",
    "test_mask = np.load(dir_rs + \"Data_sets/image_segmentation/CV4_test_mask_all_patch.npy\")\n",
    "\n",
    "\n",
    "with tf.device('/cpu:0'):  \n",
    "    ## Load U-net backbone\n",
    "    backbone_model = sm.Unet(\"efficientnetb4\", classes=9, encoder_weights=\"imagenet\", activation=\"softmax\")\n",
    "    # or if pregenerated\n",
    "    #backbone_model = keras.models.load_model(dir_ + \"u_net_models/model_u_%s_image_net_weights.hdf5\" %m)\n",
    "    \n",
    "    \n",
    "    ## Define loss    \n",
    "    focal_loss = sm.losses.CategoricalFocalLoss(class_indexes=[1,2,3,4,5,6,7,8])\n",
    "    jaccard_loss = sm.losses.JaccardLoss(class_indexes=[1,2,3,4,5,6,7,8])\n",
    "    \n",
    "    categorical_focal_jaccard_loss = focal_loss + jaccard_loss\n",
    "    \n",
    "\n",
    "    ## Define optimizer\n",
    "    optimizer = tfa.optimizers.AdamW(learning_rate=lr, weight_decay=decay)\n",
    "    \n",
    "    \n",
    "    ## Compile model\n",
    "    backbone_model.compile(optimizer=optimizer,\n",
    "                            loss=categorical_focal_jaccard_loss, \n",
    "                            metrics=metrics)\n",
    "    \n",
    "    \n",
    "    ## Load model weights\n",
    "    backbone_model.load_weights(dir_rs + \"image_segmentation/u_net_models_mc/u_net_%s\" %i)\n",
    "    \n",
    "\n",
    "## Make predictions on test data\n",
    "with tf.device('/gpu:0'):\n",
    "    pred_mask_CV4 = test_time_augmentation(test_img)\n",
    "        \n",
    "        \n",
    "## get model's performance\n",
    "with tf.device(\"/cpu:0\"):\n",
    "    IoU_CV4 = get_IoU_by_class(test_mask_4, np.array(pred_mask_CV4)[:,:,:,:], [1,2,3,4,5,6,7,8], n_classes)\n",
    "    F1_CV4 = get_F1score_by_class(test_mask_4, np.array(pred_mask_CV4)[:,:,:,:], [1,2,3,4,5,6,7,8], n_classes)\n",
    "    ACC_CV4 = get_ACC_by_class(test_mask_4, np.array(pred_mask_CV4)[:,:,:,:], [1,2,3,4,5,6,7,8], n_classes)"
   ]
  },
  {
   "cell_type": "markdown",
   "id": "8dad6699-dbab-4acc-be74-4cf1f5f9b3f6",
   "metadata": {},
   "source": [
    "#### Model trained on CV5 (TTA)"
   ]
  },
  {
   "cell_type": "code",
   "execution_count": null,
   "id": "02565ce9-9455-45b2-a2a3-7dc417fedd89",
   "metadata": {},
   "outputs": [],
   "source": [
    "i = \"effnetb4_focc_jacc_14\" # model name\n",
    "m = \"effnetb4\" # name backbone\n",
    "batchsize = 8\n",
    "n_classes = 9\n",
    "lr = 0.0001\n",
    "decay = 0.000001\n",
    "\n",
    "\n",
    "metrics = [tf.keras.metrics.CategoricalAccuracy(name=\"cat_accuracy\"),\n",
    "           sm.metrics.IOUScore(threshold=0.5, class_indexes=[1,2,3,4,5,6,7,8]),\n",
    "           sm.metrics.FScore(threshold=0.5, class_indexes=[1,2,3,4,5,6,7,8]),\n",
    "           tf.keras.metrics.MeanIoU(num_classes=n_classes)]\n",
    "\n",
    "\n",
    "# Load test data\n",
    "test_img = np.load(dir_rs + \"image_segmentation/CV5_test_imgs_all_patch.npy\")\n",
    "test_mask = np.load(dir_rs + \"image_segmentation/CV5_test_mask_all_patch.npy\")\n",
    "\n",
    "\n",
    "with tf.device('/cpu:0'):  \n",
    "    ## Load U-net backbone\n",
    "    backbone_model = sm.Unet(\"efficientnetb4\", classes=9, encoder_weights=\"imagenet\", activation=\"softmax\")\n",
    "    # or if pregenerated\n",
    "    #backbone_model = keras.models.load_model(dir_ + \"u_net_models/model_u_%s_image_net_weights.hdf5\" %m)\n",
    "    \n",
    "    \n",
    "    ## Define loss    \n",
    "    focal_loss = sm.losses.CategoricalFocalLoss(class_indexes=[1,2,3,4,5,6,7,8])\n",
    "    jaccard_loss = sm.losses.JaccardLoss(class_indexes=[1,2,3,4,5,6,7,8])\n",
    "    \n",
    "    categorical_focal_jaccard_loss = focal_loss + jaccard_loss \n",
    "    \n",
    "\n",
    "    ## Define optimizer\n",
    "    optimizer = tfa.optimizers.AdamW(learning_rate=lr, weight_decay=decay)\n",
    "    \n",
    "    \n",
    "    ## Compile model\n",
    "    backbone_model.compile(optimizer=optimizer,\n",
    "                            loss=categorical_focal_jaccard_loss, \n",
    "                            metrics=metrics)\n",
    "    \n",
    "    \n",
    "    ## Load model weights\n",
    "    backbone_model.load_weights(dir_rs + \"image_segmentation/u_net_models_mc/u_net_%s\" %i)\n",
    "    \n",
    "\n",
    "## Make predictions on test data\n",
    "with tf.device('/gpu:0'):\n",
    "    pred_mask_CV5 = test_time_augmentation(test_img)\n",
    "        \n",
    "        \n",
    "## get model's performance\n",
    "with tf.device(\"/cpu:0\"):\n",
    "    IoU_CV5 = get_IoU_by_class(test_mask_5, np.array(pred_mask_CV5)[:,:,:,:], [1,2,3,4,5,6,7,8], n_classes)\n",
    "    F1_CV5 = get_F1score_by_class(test_mask_5, np.array(pred_mask_CV5)[:,:,:,:], [1,2,3,4,5,6,7,8], n_classes)\n",
    "    ACC_CV5 = get_ACC_by_class(test_mask_5, np.array(pred_mask_CV5)[:,:,:,:], [1,2,3,4,5,6,7,8], n_classes)"
   ]
  },
  {
   "cell_type": "markdown",
   "id": "595cb2bc-bfe6-4977-88cd-aa87d987533b",
   "metadata": {},
   "source": [
    "#### Averaging model performance over folds"
   ]
  },
  {
   "cell_type": "code",
   "execution_count": 34,
   "id": "54d0252f-854f-4366-b25b-226903a1ae1d",
   "metadata": {},
   "outputs": [
    {
     "data": {
      "text/plain": [
       "[('bareland', 0.574246089289109),\n",
       " ('rangeland', 0.5601631148322136),\n",
       " ('developed space', 0.5819971536330757),\n",
       " ('road', 0.6483327899588631),\n",
       " ('tree', 0.7063658270467628),\n",
       " ('water', 0.8584730536298402),\n",
       " ('agriculture land', 0.7991920289133622),\n",
       " ('buildings', 0.8094321748684934),\n",
       " ('avg', 0.692275279021465)]"
      ]
     },
     "execution_count": 34,
     "metadata": {},
     "output_type": "execute_result"
    }
   ],
   "source": [
    "#IoU score\n",
    "IoU_CV_avg = list(zip(IoU_CV1,IoU_CV2,IoU_CV3,IoU_CV4,IoU_CV5))\n",
    "list(zip([\"bareland\",\"rangeland\",\"developed space\",\"road\",\"tree\",\"water\",\"agriculture land\",\"buildings\",\"avg\"], [np.mean(x) for x in IoU_CV_avg]))"
   ]
  },
  {
   "cell_type": "code",
   "execution_count": 35,
   "id": "3a84ee01-7b43-4037-93d0-482095f1ca9f",
   "metadata": {},
   "outputs": [
    {
     "data": {
      "text/plain": [
       "[('bareland', 0.7261333887151014),\n",
       " ('rangeland', 0.7176658291571935),\n",
       " ('developed space', 0.7355145850373405),\n",
       " ('road', 0.7863713814268944),\n",
       " ('tree', 0.8278125742565324),\n",
       " ('water', 0.9238040581618673),\n",
       " ('agriculture land', 0.8879654779618887),\n",
       " ('buildings', 0.89465578898178),\n",
       " ('avg', 0.8124903854623249)]"
      ]
     },
     "execution_count": 35,
     "metadata": {},
     "output_type": "execute_result"
    }
   ],
   "source": [
    "# F1 score\n",
    "F1_CV_avg = list(zip(F1_CV1,F1_CV2,F1_CV3,F1_CV4,F1_CV5))\n",
    "list(zip([\"bareland\",\"rangeland\",\"developed space\",\"road\",\"tree\",\"water\",\"agriculture land\",\"buildings\",\"avg\"], [np.mean(x) for x in F1_CV_avg]))"
   ]
  },
  {
   "cell_type": "code",
   "execution_count": null,
   "id": "b9261ab0-a89f-4273-8712-24f8094a5232",
   "metadata": {},
   "outputs": [],
   "source": [
    "test_label = np.concat([np.argmax(test_mask_1, axis=-1), np.argmax(test_mask_2, axis=-1), np.argmax(test_mask_3, axis=-1),\n",
    "                        np.argmax(test_mask_4, axis=-1), np.argmax(test_mask_5, axis=-1)])"
   ]
  },
  {
   "cell_type": "code",
   "execution_count": null,
   "id": "d25d6f1c-b27f-405e-b61e-5809d9eefd71",
   "metadata": {},
   "outputs": [],
   "source": [
    "tresh = 0.5\n",
    "pred_ = np.concat([np.argmax(np.where(pred_mask_CV1 > tresh, 1, 0), axis=-1), np.argmax(np.where(pred_mask_CV2 > tresh, 1, 0), axis=-1),\n",
    "                  np.argmax(np.where(pred_mask_CV3 > tresh, 1, 0), axis=-1), np.argmax(np.where(pred_mask_CV4 > tresh, 1, 0), axis=-1),\n",
    "                  np.argmax(np.where(pred_mask_CV5 > tresh, 1, 0), axis=-1)])"
   ]
  },
  {
   "cell_type": "code",
   "execution_count": null,
   "id": "dee780ce-f52d-42af-8fdc-638fcbe0a752",
   "metadata": {},
   "outputs": [],
   "source": [
    "# Confusion matrix\n",
    "test_label = np.concat()\n",
    "test_prediction = np.concat()\n",
    "\n",
    "target_names = [\"None\",\"bareland\",\"rangeland\",\"developed space\",\"road\",\"tree\",\"water\",\"agriculture land\",\"buildings\"]\n",
    "disp = ConfusionMatrixDisplay.from_predictions(multi_label_2_multi_class(img_class_test), multi_label_2_multi_class(y_pred),\n",
    "                                               normalize=\"true\", values_format=\".1%\", cmap=plt.cm.Blues, display_labels=target_names)\n",
    "plt.show()"
   ]
  },
  {
   "cell_type": "markdown",
   "id": "73ffdcdf-5dc6-4459-ae35-79344c2c56e3",
   "metadata": {},
   "source": [
    "### Model performance in developed countries"
   ]
  },
  {
   "cell_type": "markdown",
   "id": "af0773bb-1930-4b5e-ace5-6a9f9f93ceb3",
   "metadata": {
    "tags": []
   },
   "source": [
    "#### Model trained on CV1 (TTA)"
   ]
  },
  {
   "cell_type": "code",
   "execution_count": 3,
   "id": "c2e99e7b-3b4a-45a2-89d5-00c97d7722b0",
   "metadata": {},
   "outputs": [],
   "source": [
    "isov = pd.read_excel(dir_h + \"/image_segmentation_city_overview.xlsx\")"
   ]
  },
  {
   "cell_type": "code",
   "execution_count": null,
   "id": "b38f304a-dd5c-4d8e-af1f-17b0ee510dbb",
   "metadata": {},
   "outputs": [],
   "source": [
    "i = \"effnetb4_focc_jacc_10\" # model name\n",
    "m = \"effnetb4\" # name backbone\n",
    "batchsize = 8\n",
    "n_classes = 9\n",
    "lr = 0.0001\n",
    "decay = 0.000001\n",
    "\n",
    "\n",
    "metrics = [tf.keras.metrics.CategoricalAccuracy(name=\"cat_accuracy\"),\n",
    "           sm.metrics.IOUScore(threshold=0.5, class_indexes=[1,2,3,4,5,6,7,8]),\n",
    "           sm.metrics.FScore(threshold=0.5, class_indexes=[1,2,3,4,5,6,7,8]),\n",
    "           tf.keras.metrics.MeanIoU(num_classes=n_classes)]\n",
    "\n",
    "\n",
    "# Load test data\n",
    "test_img = np.load(dir_rs + \"Data_sets/image_segmentation/CV1_test_imgs_all_patch.npy\")\n",
    "test_mask = np.load(dir_rs + \"Data_sets/image_segmentation/CV1_test_mask_all_patch.npy\")\n",
    "test_name = np.load(dir_rs + \"Data_sets/image_segmentation/CV1_test_names_all_patch.npy\")\n",
    "\n",
    "\n",
    "## Filter for developed countries\n",
    "names = pd.DataFrame([x.rsplit(\"_\")[0] for x in list(test_name)], columns=[\"city\"])\n",
    "names = names.merge(isov[[\"city\", \"developed\"]], on=\"city\", how=\"left\")\n",
    "idx_developed = names[names.developed==1].index.values\n",
    "\n",
    "test_img = test_img[idx_developed]\n",
    "test_mask = test_mask[idx_developed]\n",
    "\n",
    "\n",
    "with tf.device('/cpu:0'):  \n",
    "    ## Load U-net backbone\n",
    "    backbone_model = sm.Unet(\"efficientnetb4\", classes=9, encoder_weights=\"imagenet\", activation=\"softmax\")\n",
    "    # or if pregenerated\n",
    "    #backbone_model = keras.models.load_model(dir_ + \"u_net_models/model_u_%s_image_net_weights.hdf5\" %m)\n",
    "    \n",
    "    \n",
    "    ## Define loss    \n",
    "    focal_loss = sm.losses.CategoricalFocalLoss(class_indexes=[1,2,3,4,5,6,7,8])\n",
    "    jaccard_loss = sm.losses.JaccardLoss(class_indexes=[1,2,3,4,5,6,7,8])\n",
    "    \n",
    "    categorical_focal_jaccard_loss = focal_loss + jaccard_loss\n",
    "    \n",
    "\n",
    "    ## Define optimizer\n",
    "    optimizer = tfa.optimizers.AdamW(learning_rate=lr, weight_decay=decay)\n",
    "    \n",
    "    \n",
    "    ## Compile model\n",
    "    backbone_model.compile(optimizer=optimizer,\n",
    "                            loss=categorical_focal_jaccard_loss, \n",
    "                            metrics=metrics)\n",
    "    \n",
    "    \n",
    "    ## Load model weights\n",
    "    backbone_model.load_weights(dir_rs + \"Data_sets/image_segmentation/u_net_models_mc/u_net_%s\" %i)\n",
    "    \n",
    "\n",
    "## Make predictions on test data\n",
    "with tf.device('/gpu:0'):\n",
    "    pred_mask_CV1 = test_time_augmentation(test_img)\n",
    "        \n",
    "        \n",
    "## get model's performance\n",
    "with tf.device('/cpu:0'):\n",
    "    IoU_CV1 = get_IoU_by_class(test_mask, np.array(pred_mask_CV1)[:,:,:,:], [1,2,3,4,5,6,7,8], n_classes)\n",
    "    F1_CV1 = get_F1score_by_class(test_mask, np.array(pred_mask_CV1)[:,:,:,:], [1,2,3,4,5,6,7,8], n_classes)\n",
    "    ACC_CV1 = get_ACC_by_class(test_mask, np.array(pred_mask_CV1)[:,:,:,:], [1,2,3,4,5,6,7,8], n_classes)"
   ]
  },
  {
   "cell_type": "code",
   "execution_count": null,
   "id": "2c7543c0-a48f-4c0e-acef-653779675e8c",
   "metadata": {},
   "outputs": [],
   "source": [
    "accuracy_CV1, avg_conf_CV1, ECE_CV1, pred_conf_CV1, means_CV1 = model_calibration(pred_mask_CV1, test_mask)"
   ]
  },
  {
   "cell_type": "code",
   "execution_count": 21,
   "id": "b0fa35db-69de-4122-b54c-f60cee27cd9f",
   "metadata": {},
   "outputs": [
    {
     "name": "stdout",
     "output_type": "stream",
     "text": [
      "Accuracy: 0.7947568570153188\n",
      "Avg. confidence: 0.9187266\n",
      "ECE: 12.3967366992804\n",
      "IoU: [0.45794960111813854, 0.5287792626180362, 0.5484991148766454, 0.6321955795989413, 0.7291249456748834, 0.8879055362491998, 0.8349442648637482, 0.7910470045305751, 0.676305663691271]\n",
      "F1: [0.628210468681944, 0.6917666605608825, 0.7084267722300955, 0.7746566496083991, 0.8433455864466559, 0.940624961578531, 0.9100486383718392, 0.8833347226840502, 0.7975518075202997]\n"
     ]
    }
   ],
   "source": [
    "print(\"Accuracy:\", accuracy_CV1)\n",
    "print(\"Avg. confidence:\", avg_conf_CV1)\n",
    "print(\"ECE:\", ECE_CV1)\n",
    "print(\"IoU:\", IoU_CV1)\n",
    "print(\"F1:\", F1_CV1)"
   ]
  },
  {
   "cell_type": "markdown",
   "id": "318a937f-7801-4f51-84af-d1b7e659ee75",
   "metadata": {},
   "source": [
    "#### Model trained on CV2 (TTA)"
   ]
  },
  {
   "cell_type": "code",
   "execution_count": 9,
   "id": "2210c2fc-815a-4d15-beff-dce18d7104ed",
   "metadata": {},
   "outputs": [
    {
     "name": "stdout",
     "output_type": "stream",
     "text": [
      "WARNING:tensorflow:No training configuration found in the save file, so the model was *not* compiled. Compile it manually.\n",
      "WARNING:tensorflow:Detecting that an object or model or tf.train.Checkpoint is being deleted with unrestored values. See the following logs for the specific values in question. To silence these warnings, use `status.expect_partial()`. See https://www.tensorflow.org/api_docs/python/tf/train/Checkpoint#restorefor details about the status object returned by the restore function.\n",
      "WARNING:tensorflow:Value in checkpoint could not be found in the restored object: (root).optimizer.iter\n",
      "WARNING:tensorflow:Value in checkpoint could not be found in the restored object: (root).optimizer.beta_1\n",
      "WARNING:tensorflow:Value in checkpoint could not be found in the restored object: (root).optimizer.beta_2\n",
      "WARNING:tensorflow:Value in checkpoint could not be found in the restored object: (root).optimizer.decay\n",
      "WARNING:tensorflow:Value in checkpoint could not be found in the restored object: (root).optimizer.learning_rate\n",
      "WARNING:tensorflow:Value in checkpoint could not be found in the restored object: (root).optimizer.weight_decay\n",
      "WARNING:tensorflow:Value in checkpoint could not be found in the restored object: (root).keras_api.metrics.0.total\n",
      "WARNING:tensorflow:Value in checkpoint could not be found in the restored object: (root).keras_api.metrics.0.count\n",
      "WARNING:tensorflow:Value in checkpoint could not be found in the restored object: (root).keras_api.metrics.1.total\n",
      "WARNING:tensorflow:Value in checkpoint could not be found in the restored object: (root).keras_api.metrics.1.count\n",
      "WARNING:tensorflow:Value in checkpoint could not be found in the restored object: (root).keras_api.metrics.2.total\n",
      "WARNING:tensorflow:Value in checkpoint could not be found in the restored object: (root).keras_api.metrics.2.count\n",
      "WARNING:tensorflow:Value in checkpoint could not be found in the restored object: (root).keras_api.metrics.3.total\n",
      "WARNING:tensorflow:Value in checkpoint could not be found in the restored object: (root).keras_api.metrics.3.count\n",
      "WARNING:tensorflow:Value in checkpoint could not be found in the restored object: (root).keras_api.metrics.4.total_confusion_matrix\n"
     ]
    }
   ],
   "source": [
    "i = \"effnetb4_focc_jacc_11\" # model name\n",
    "m = \"effnetb4\" # name backbone\n",
    "batchsize = 8\n",
    "n_classes = 9\n",
    "lr = 0.0001\n",
    "decay = 0.000001\n",
    "\n",
    "\n",
    "metrics = [tf.keras.metrics.CategoricalAccuracy(name=\"cat_accuracy\"),\n",
    "           sm.metrics.IOUScore(threshold=0.5, class_indexes=[1,2,3,4,5,6,7,8]),\n",
    "           sm.metrics.FScore(threshold=0.5, class_indexes=[1,2,3,4,5,6,7,8]),\n",
    "           tf.keras.metrics.MeanIoU(num_classes=n_classes)]\n",
    "\n",
    "\n",
    "# Load test data\n",
    "test_img = np.load(dir_rs + \"Data_sets/image_segmentation/CV2_test_imgs_all_patch.npy\")\n",
    "test_mask = np.load(dir_rs + \"Data_sets/image_segmentation/CV2_test_mask_all_patch.npy\")\n",
    "test_name = np.load(dir_rs + \"Data_sets/image_segmentation/CV2_test_names_all_patch.npy\")\n",
    "\n",
    "\n",
    "## Filter for developed countries\n",
    "names = pd.DataFrame([x.rsplit(\"_\")[0] for x in list(test_name)], columns=[\"city\"])\n",
    "names = names.merge(isov[[\"city\", \"developed\"]], on=\"city\", how=\"left\")\n",
    "idx_developed = names[names.developed==1].index.values\n",
    "\n",
    "test_img = test_img[idx_developed]\n",
    "test_mask = test_mask[idx_developed]\n",
    "\n",
    "\n",
    "with tf.device('/cpu:0'):  \n",
    "    ## Load U-net backbone\n",
    "    backbone_model = sm.Unet(\"efficientnetb4\", classes=9, encoder_weights=\"imagenet\", activation=\"softmax\")\n",
    "    # or if pregenerated\n",
    "    #backbone_model = keras.models.load_model(dir_ + \"u_net_models/model_u_%s_image_net_weights.hdf5\" %m)\n",
    "    \n",
    "    \n",
    "    ## Define loss    \n",
    "    focal_loss = sm.losses.CategoricalFocalLoss(class_indexes=[1,2,3,4,5,6,7,8])\n",
    "    jaccard_loss = sm.losses.JaccardLoss(class_indexes=[1,2,3,4,5,6,7,8])\n",
    "    \n",
    "    categorical_focal_jaccard_loss = focal_loss + jaccard_loss\n",
    "    \n",
    "\n",
    "    ## Define optimizer\n",
    "    optimizer = tfa.optimizers.AdamW(learning_rate=lr, weight_decay=decay)\n",
    "    \n",
    "    \n",
    "    ## Compile model\n",
    "    backbone_model.compile(optimizer=optimizer,\n",
    "                            loss=categorical_focal_jaccard_loss, \n",
    "                            metrics=metrics)\n",
    "    \n",
    "    \n",
    "    ## Load model weights\n",
    "    backbone_model.load_weights(dir_rs + \"Data_sets/image_segmentation/u_net_models_mc/u_net_%s\" %i)\n",
    "    \n",
    "\n",
    "## Make predictions on test data\n",
    "with tf.device('/gpu:0'):\n",
    "    pred_mask_CV2 = test_time_augmentation(test_img)\n",
    "        \n",
    "        \n",
    "## get model's performance\n",
    "with tf.device(\"/cpu:0\"):\n",
    "    IoU_CV2 = get_IoU_by_class(test_mask, np.array(pred_mask_CV2)[:,:,:,:], [1,2,3,4,5,6,7,8], n_classes)\n",
    "    F1_CV2 = get_F1score_by_class(test_mask, np.array(pred_mask_CV2)[:,:,:,:], [1,2,3,4,5,6,7,8], n_classes)\n",
    "    ACC_CV2 = get_ACC_by_class(test_mask, np.array(pred_mask_CV2)[:,:,:,:], [1,2,3,4,5,6,7,8], n_classes)"
   ]
  },
  {
   "cell_type": "code",
   "execution_count": 23,
   "id": "0402acdd-45fe-4447-ba54-03890f3d98b9",
   "metadata": {},
   "outputs": [],
   "source": [
    "accuracy_CV2, avg_conf_CV2, ECE_CV2, pred_conf_CV2, means_CV2 = model_calibration(pred_mask_CV2, test_mask)"
   ]
  },
  {
   "cell_type": "code",
   "execution_count": 24,
   "id": "7a51bcfa-e45f-4d3b-8c9a-797c51b1106c",
   "metadata": {},
   "outputs": [
    {
     "name": "stdout",
     "output_type": "stream",
     "text": [
      "Accuracy: 0.7906639217156733\n",
      "Avg. confidence: 0.9126628\n",
      "ECE: 12.199581126308173\n",
      "IoU: [0.4030535212481909, 0.5192340643427847, 0.5452121642010533, 0.6459633144906417, 0.7282815719722854, 0.8675600028609208, 0.8067963070158592, 0.8062396965007897, 0.6652925803290658]\n",
      "F1: [0.574537628312835, 0.6835471590973975, 0.7056793582555289, 0.7849060897089131, 0.8427811576341261, 0.9290839400413733, 0.8930683595965092, 0.8927272477320647, 0.7882913675473435]\n"
     ]
    }
   ],
   "source": [
    "print(\"Accuracy:\", accuracy_CV2)\n",
    "print(\"Avg. confidence:\", avg_conf_CV2)\n",
    "print(\"ECE:\", ECE_CV2)\n",
    "print(\"IoU:\", IoU_CV2)\n",
    "print(\"F1:\", F1_CV2)"
   ]
  },
  {
   "cell_type": "code",
   "execution_count": 100,
   "id": "5662b4f9-b1be-4e20-be2d-ae5f6fcc996a",
   "metadata": {},
   "outputs": [
    {
     "data": {
      "image/png": "[encoded data removed]",
      "text/plain": [
       "<Figure size 360x360 with 1 Axes>"
      ]
     },
     "metadata": {
      "needs_background": "light"
     },
     "output_type": "display_data"
    }
   ],
   "source": [
    "plt.figure(figsize=(5, 5))\n",
    "plt.hist(pred_conf_CV2, bins=20, weights=np.ones_like(pred_conf_CV2)/len(pred_conf_CV2), color=\"blue\", edgecolor=\"gray\", alpha=0.8)\n",
    "plt.axvline(x=0.79, color=\"gray\", linestyle=\"dashed\")\n",
    "plt.text(0.75, 0.35, \"Accuracy\", fontsize=12, rotation=90)\n",
    "plt.axvline(x=0.91, color=\"gray\", linestyle=\"dashed\")\n",
    "plt.text(0.87, 0.35, \"Avg. confidence\", fontsize=12, rotation=90)           \n",
    "plt.xlim(0,1)\n",
    "plt.ylim(0,0.8)\n",
    "plt.ylabel(\"Proportion of samples\")\n",
    "plt.text(0.05, 0.72, 'Error=12.2', fontsize=12)\n",
    "plt.savefig(\"H:/Sebastian_Bahr/PhD/2_Publication/Crime_and_ML/Data_happiness/visualization/ECE_fold2.png\", dpi=600, facecolor=\"white\", bbox_inches=\"tight\")\n",
    "plt.show()"
   ]
  },
  {
   "cell_type": "markdown",
   "id": "e5e6d571-c707-4094-9ac5-0bfcb12e248a",
   "metadata": {},
   "source": [
    "#### Model trained on CV3 (TTA)"
   ]
  },
  {
   "cell_type": "code",
   "execution_count": null,
   "id": "eeb17aab-7b3b-446c-8453-f288b0bf7ef5",
   "metadata": {},
   "outputs": [],
   "source": [
    "i = \"effnetb4_focc_jacc_12\" # model name\n",
    "m = \"effnetb4\" # name backbone\n",
    "batchsize = 8\n",
    "n_classes = 9\n",
    "lr = 0.0001\n",
    "decay = 0.000001\n",
    "\n",
    "\n",
    "metrics = [tf.keras.metrics.CategoricalAccuracy(name=\"cat_accuracy\"),\n",
    "           sm.metrics.IOUScore(threshold=0.5, class_indexes=[1,2,3,4,5,6,7,8]),\n",
    "           sm.metrics.FScore(threshold=0.5, class_indexes=[1,2,3,4,5,6,7,8]),\n",
    "           tf.keras.metrics.MeanIoU(num_classes=n_classes)]\n",
    "\n",
    "\n",
    "# Load test data\n",
    "test_img = np.load(dir_rs + \"Data_sets/image_segmentation/CV3_test_imgs_all_patch.npy\")\n",
    "test_mask = np.load(dir_rs + \"Data_sets/image_segmentation/CV3_test_mask_all_patch.npy\")\n",
    "test_name = np.load(dir_rs + \"Data_sets/image_segmentation/CV3_test_names_all_patch.npy\")\n",
    "\n",
    "\n",
    "## Filter for developed countries\n",
    "names = pd.DataFrame([x.rsplit(\"_\")[0] for x in list(test_name)], columns=[\"city\"])\n",
    "names = names.merge(isov[[\"city\", \"developed\"]], on=\"city\", how=\"left\")\n",
    "idx_developed = names[names.developed==1].index.values\n",
    "\n",
    "test_img = test_img[idx_developed]\n",
    "test_mask = test_mask[idx_developed]\n",
    "\n",
    "\n",
    "with tf.device('/cpu:0'):  \n",
    "    ## Load U-net backbone\n",
    "    backbone_model = sm.Unet(\"efficientnetb4\", classes=9, encoder_weights=\"imagenet\", activation=\"softmax\")\n",
    "    # or if pregenerated\n",
    "    #backbone_model = keras.models.load_model(dir_ + \"u_net_models/model_u_%s_image_net_weights.hdf5\" %m)\n",
    "    \n",
    "    \n",
    "    ## Define loss    \n",
    "    focal_loss = sm.losses.CategoricalFocalLoss(class_indexes=[1,2,3,4,5,6,7,8])\n",
    "    jaccard_loss = sm.losses.JaccardLoss(class_indexes=[1,2,3,4,5,6,7,8])\n",
    "    \n",
    "    categorical_focal_jaccard_loss = focal_loss + jaccard_loss]) \n",
    "    \n",
    "\n",
    "    ## Define optimizer\n",
    "    optimizer = tfa.optimizers.AdamW(learning_rate=lr, weight_decay=decay)\n",
    "    \n",
    "    \n",
    "    ## Compile model\n",
    "    backbone_model.compile(optimizer=optimizer,\n",
    "                            loss=categorical_focal_jaccard_loss, \n",
    "                            metrics=metrics)\n",
    "    \n",
    "    \n",
    "    ## Load model weights\n",
    "    backbone_model.load_weights(dir_rs + \"Data_sets/image_segmentation/u_net_models_mc/u_net_%s\" %i)\n",
    "    \n",
    "\n",
    "## Make predictions on test data\n",
    "with tf.device('/gpu:0'):\n",
    "    pred_mask_CV3 = test_time_augmentation(test_img)\n",
    "        \n",
    "        \n",
    "## get model's performance\n",
    "with tf.device(\"/cpu:0\"):\n",
    "    IoU_CV3 = get_IoU_by_class(test_mask, np.array(pred_mask_CV3)[:,:,:,:], [1,2,3,4,5,6,7,8], n_classes)\n",
    "    F1_CV3 = get_F1score_by_class(test_mask, np.array(pred_mask_CV3)[:,:,:,:], [1,2,3,4,5,6,7,8], n_classes)\n",
    "    ACC_CV3 = get_ACC_by_class(test_mask, np.array(pred_mask_CV3)[:,:,:,:], [1,2,3,4,5,6,7,8], n_classes)"
   ]
  },
  {
   "cell_type": "code",
   "execution_count": 26,
   "id": "9f7b8008-bfb7-4668-b2dc-0dcfd640cc63",
   "metadata": {},
   "outputs": [],
   "source": [
    "accuracy_CV3, avg_conf_CV3, ECE_CV3, pred_conf_CV3, means_CV3 = model_calibration(pred_mask_CV3, test_mask)"
   ]
  },
  {
   "cell_type": "code",
   "execution_count": 37,
   "id": "ec25d001-736c-48a2-8ad9-3f0e2d2e4ac4",
   "metadata": {},
   "outputs": [
    {
     "name": "stdout",
     "output_type": "stream",
     "text": [
      "Accuracy: 0.8010374014118514\n",
      "Avg. confidence: 0.91550213\n",
      "ECE: 11.446413703844215\n",
      "IoU: [0.5290245986006429, 0.5486130002968881, 0.5297860213255174, 0.6411379530490957, 0.7419695266935985, 0.8848447492515481, 0.8325487402129597, 0.8044982604949164, 0.6890528562406458]\n",
      "F1: [0.6919765700088271, 0.7085217548757249, 0.6926276145031536, 0.7813334057113913, 0.8518742897895576, 0.9389046494177862, 0.9086238438778955, 0.8916586711191972, 0.8081900999129417]\n"
     ]
    }
   ],
   "source": [
    "print(\"Accuracy:\", accuracy_CV3)\n",
    "print(\"Avg. confidence:\", avg_conf_CV3)\n",
    "print(\"ECE:\", ECE_CV3)\n",
    "print(\"IoU:\", IoU_CV3)\n",
    "print(\"F1:\", F1_CV3)"
   ]
  },
  {
   "cell_type": "code",
   "execution_count": 101,
   "id": "7aa7cb26-6a2d-4d9f-82b2-c0ff9c9338b2",
   "metadata": {},
   "outputs": [
    {
     "data": {
      "image/png": "[encoded data removed]",
      "text/plain": [
       "<Figure size 360x360 with 1 Axes>"
      ]
     },
     "metadata": {
      "needs_background": "light"
     },
     "output_type": "display_data"
    }
   ],
   "source": [
    "plt.figure(figsize=(5, 5))\n",
    "plt.hist(pred_conf_CV3, bins=20, weights=np.ones_like(pred_conf_CV3)/len(pred_conf_CV3), color=\"blue\", edgecolor=\"gray\", alpha=0.8)\n",
    "plt.axvline(x=0.80, color=\"gray\", linestyle=\"dashed\")\n",
    "plt.text(0.76, 0.35, \"Accuracy\", fontsize=12, rotation=90)\n",
    "plt.axvline(x=0.92, color=\"gray\", linestyle=\"dashed\")\n",
    "plt.text(0.88, 0.35, \"Avg. confidence\", fontsize=12, rotation=90)           \n",
    "plt.xlim(0,1)\n",
    "plt.ylim(0,0.8)\n",
    "plt.ylabel(\"Proportion of samples\")\n",
    "plt.text(0.05, 0.72, 'Error=11.4', fontsize=12)\n",
    "plt.savefig(\"H:/Sebastian_Bahr/PhD/2_Publication/Crime_and_ML/Data_happiness/visualization/ECE_fold3.png\", dpi=600, facecolor=\"white\", bbox_inches=\"tight\")\n",
    "plt.show()"
   ]
  },
  {
   "cell_type": "markdown",
   "id": "35e56fa4-e9d7-430c-a1eb-1e122aeb24ad",
   "metadata": {},
   "source": [
    "#### Model trained on CV4 (TTA)"
   ]
  },
  {
   "cell_type": "code",
   "execution_count": 11,
   "id": "a3454e26-415f-465c-903e-3215adbbea31",
   "metadata": {},
   "outputs": [
    {
     "name": "stdout",
     "output_type": "stream",
     "text": [
      "WARNING:tensorflow:No training configuration found in the save file, so the model was *not* compiled. Compile it manually.\n",
      "WARNING:tensorflow:Detecting that an object or model or tf.train.Checkpoint is being deleted with unrestored values. See the following logs for the specific values in question. To silence these warnings, use `status.expect_partial()`. See https://www.tensorflow.org/api_docs/python/tf/train/Checkpoint#restorefor details about the status object returned by the restore function.\n",
      "WARNING:tensorflow:Value in checkpoint could not be found in the restored object: (root).optimizer.iter\n",
      "WARNING:tensorflow:Value in checkpoint could not be found in the restored object: (root).optimizer.beta_1\n",
      "WARNING:tensorflow:Value in checkpoint could not be found in the restored object: (root).optimizer.beta_2\n",
      "WARNING:tensorflow:Value in checkpoint could not be found in the restored object: (root).optimizer.decay\n",
      "WARNING:tensorflow:Value in checkpoint could not be found in the restored object: (root).optimizer.learning_rate\n",
      "WARNING:tensorflow:Value in checkpoint could not be found in the restored object: (root).optimizer.weight_decay\n",
      "WARNING:tensorflow:Value in checkpoint could not be found in the restored object: (root).keras_api.metrics.0.total\n",
      "WARNING:tensorflow:Value in checkpoint could not be found in the restored object: (root).keras_api.metrics.0.count\n",
      "WARNING:tensorflow:Value in checkpoint could not be found in the restored object: (root).keras_api.metrics.1.total\n",
      "WARNING:tensorflow:Value in checkpoint could not be found in the restored object: (root).keras_api.metrics.1.count\n",
      "WARNING:tensorflow:Value in checkpoint could not be found in the restored object: (root).keras_api.metrics.2.total\n",
      "WARNING:tensorflow:Value in checkpoint could not be found in the restored object: (root).keras_api.metrics.2.count\n",
      "WARNING:tensorflow:Value in checkpoint could not be found in the restored object: (root).keras_api.metrics.3.total\n",
      "WARNING:tensorflow:Value in checkpoint could not be found in the restored object: (root).keras_api.metrics.3.count\n",
      "WARNING:tensorflow:Value in checkpoint could not be found in the restored object: (root).keras_api.metrics.4.total_confusion_matrix\n"
     ]
    }
   ],
   "source": [
    "i = \"effnetb4_focc_jacc_13\" # model name\n",
    "m = \"effnetb4\" # name backbone\n",
    "batchsize = 8\n",
    "n_classes = 9\n",
    "lr = 0.0001\n",
    "decay = 0.000001\n",
    "\n",
    "\n",
    "metrics = [tf.keras.metrics.CategoricalAccuracy(name=\"cat_accuracy\"),\n",
    "           sm.metrics.IOUScore(threshold=0.5, class_indexes=[1,2,3,4,5,6,7,8]),\n",
    "           sm.metrics.FScore(threshold=0.5, class_indexes=[1,2,3,4,5,6,7,8]),\n",
    "           tf.keras.metrics.MeanIoU(num_classes=n_classes)]\n",
    "\n",
    "\n",
    "# Load test data\n",
    "test_img = np.load(dir_rs + \"Data_sets/image_segmentation/CV4_test_imgs_all_patch.npy\")\n",
    "test_mask = np.load(dir_rs + \"Data_sets/image_segmentation/CV4_test_mask_all_patch.npy\")\n",
    "test_name = np.load(dir_rs + \"Data_sets/image_segmentation/CV4_test_names_all_patch.npy\")\n",
    "\n",
    "\n",
    "## Filter for developed countries\n",
    "names = pd.DataFrame([x.rsplit(\"_\")[0] for x in list(test_name)], columns=[\"city\"])\n",
    "names = names.merge(isov[[\"city\", \"developed\"]], on=\"city\", how=\"left\")\n",
    "idx_developed = names[names.developed==1].index.values\n",
    "\n",
    "test_img = test_img[idx_developed]\n",
    "test_mask = test_mask[idx_developed]\n",
    "\n",
    "\n",
    "with tf.device('/cpu:0'):  \n",
    "    ## Load U-net backbone\n",
    "    backbone_model = sm.Unet(\"efficientnetb4\", classes=9, encoder_weights=\"imagenet\", activation=\"softmax\")\n",
    "    # or if pregenerated\n",
    "    #backbone_model = keras.models.load_model(dir_ + \"u_net_models/model_u_%s_image_net_weights.hdf5\" %m)\n",
    "    \n",
    "    \n",
    "    ## Define loss    \n",
    "    focal_loss = sm.losses.CategoricalFocalLoss(class_indexes=[1,2,3,4,5,6,7,8])\n",
    "    jaccard_loss = sm.losses.JaccardLoss(class_indexes=[1,2,3,4,5,6,7,8])\n",
    "    \n",
    "    categorical_focal_jaccard_loss = focal_loss + jaccard_loss \n",
    "    \n",
    "\n",
    "    ## Define optimizer\n",
    "    optimizer = tfa.optimizers.AdamW(learning_rate=lr, weight_decay=decay)\n",
    "    \n",
    "    \n",
    "    ## Compile model\n",
    "    backbone_model.compile(optimizer=optimizer,\n",
    "                            loss=categorical_focal_jaccard_loss, \n",
    "                            metrics=metrics)\n",
    "    \n",
    "    \n",
    "    ## Load model weights\n",
    "    backbone_model.load_weights(dir_rs + \"Data_sets/image_segmentation/u_net_models_mc/u_net_%s\" %i)\n",
    "    \n",
    "\n",
    "## Make predictions on test data\n",
    "with tf.device('/gpu:0'):\n",
    "    pred_mask_CV4 = test_time_augmentation(test_img)\n",
    "        \n",
    "        \n",
    "## get model's performance\n",
    "with tf.device(\"/cpu:0\"):\n",
    "    IoU_CV4 = get_IoU_by_class(test_mask, np.array(pred_mask_CV4)[:,:,:,:], [1,2,3,4,5,6,7,8], n_classes)\n",
    "    F1_CV4 = get_F1score_by_class(test_mask, np.array(pred_mask_CV4)[:,:,:,:], [1,2,3,4,5,6,7,8], n_classes)\n",
    "    ACC_CV4 = get_ACC_by_class(test_mask, np.array(pred_mask_CV4)[:,:,:,:], [1,2,3,4,5,6,7,8], n_classes)"
   ]
  },
  {
   "cell_type": "code",
   "execution_count": 28,
   "id": "bfe7caa8-2654-475c-9d2f-03ce1b2e6132",
   "metadata": {},
   "outputs": [],
   "source": [
    "accuracy_CV4, avg_conf_CV4, ECE_CV4, pred_conf_CV4, means_CV4 = model_calibration(pred_mask_CV4, test_mask)"
   ]
  },
  {
   "cell_type": "code",
   "execution_count": 36,
   "id": "8704f3af-55ec-49c3-b65c-e228170fd1a7",
   "metadata": {},
   "outputs": [
    {
     "name": "stdout",
     "output_type": "stream",
     "text": [
      "Accuracy: 0.7920020429646066\n",
      "Avg. confidence: 0.91321373\n",
      "ECE: 12.122179296948769\n",
      "IoU: [0.1650041092845913, 0.542618615574109, 0.5189013253612162, 0.6222759360462242, 0.7323928143538996, 0.918549414245694, 0.8163143202696963, 0.8026267758057674, 0.6398354138676497]\n",
      "F1: [0.2832678579634578, 0.7035032639900249, 0.6832587696080664, 0.7671641084225935, 0.8455274211317131, 0.9575457451605988, 0.8988690020882182, 0.8905079926453233, 0.7537055201262495]\n"
     ]
    }
   ],
   "source": [
    "print(\"Accuracy:\", accuracy_CV4)\n",
    "print(\"Avg. confidence:\", avg_conf_CV4)\n",
    "print(\"ECE:\", ECE_CV4)\n",
    "print(\"IoU:\", IoU_CV4)\n",
    "print(\"F1:\", F1_CV4)"
   ]
  },
  {
   "cell_type": "code",
   "execution_count": 102,
   "id": "cb1949e6-30c6-4526-99be-f07f22b33c9e",
   "metadata": {},
   "outputs": [
    {
     "data": {
      "image/png": "[encoded data removed]",
      "text/plain": [
       "<Figure size 360x360 with 1 Axes>"
      ]
     },
     "metadata": {
      "needs_background": "light"
     },
     "output_type": "display_data"
    }
   ],
   "source": [
    "plt.figure(figsize=(5, 5))\n",
    "plt.hist(pred_conf_CV4, bins=20, weights=np.ones_like(pred_conf_CV4)/len(pred_conf_CV4), color=\"blue\", edgecolor=\"gray\", alpha=0.8)\n",
    "plt.axvline(x=0.79, color=\"gray\", linestyle=\"dashed\")\n",
    "plt.text(0.75, 0.35, \"Accuracy\", fontsize=12, rotation=90)\n",
    "plt.axvline(x=0.91, color=\"gray\", linestyle=\"dashed\")\n",
    "plt.text(0.87, 0.35, \"Avg. confidence\", fontsize=12, rotation=90)           \n",
    "plt.xlim(0,1)\n",
    "plt.ylim(0,0.8)\n",
    "plt.ylabel(\"Proportion of samples\")\n",
    "plt.text(0.05, 0.72, 'Error=12.1', fontsize=12)\n",
    "plt.savefig(\"H:/Sebastian_Bahr/PhD/2_Publication/Crime_and_ML/Data_happiness/visualization/ECE_fold4.png\", dpi=600, facecolor=\"white\", bbox_inches=\"tight\")\n",
    "plt.show()"
   ]
  },
  {
   "cell_type": "markdown",
   "id": "0e2126c1-45c0-46bb-8981-366381d0c66a",
   "metadata": {},
   "source": [
    "#### Model trained on CV5 (TTA)"
   ]
  },
  {
   "cell_type": "code",
   "execution_count": null,
   "id": "59e6ca77-57b9-495e-bb98-d8ece5d6607d",
   "metadata": {},
   "outputs": [],
   "source": [
    "i = \"effnetb4_focc_jacc_13\" # model name\n",
    "m = \"effnetb4\" # name backbone\n",
    "batchsize = 8\n",
    "n_classes = 9\n",
    "lr = 0.0001\n",
    "decay = 0.000001\n",
    "\n",
    "\n",
    "metrics = [tf.keras.metrics.CategoricalAccuracy(name=\"cat_accuracy\"),\n",
    "           sm.metrics.IOUScore(threshold=0.5, class_indexes=[1,2,3,4,5,6,7,8]),\n",
    "           sm.metrics.FScore(threshold=0.5, class_indexes=[1,2,3,4,5,6,7,8]),\n",
    "           tf.keras.metrics.MeanIoU(num_classes=n_classes)]\n",
    "\n",
    "\n",
    "# Load test data\n",
    "test_img = np.load(dir_rs + \"Data_sets/image_segmentation/CV5_test_imgs_all_patch.npy\")\n",
    "test_mask = np.load(dir_rs + \"Data_sets/image_segmentation/CV5_test_mask_all_patch.npy\")\n",
    "test_name = np.load(dir_rs + \"Data_sets/image_segmentation/CV5_test_names_all_patch.npy\")\n",
    "\n",
    "\n",
    "## Filter for developed countries\n",
    "names = pd.DataFrame([x.rsplit(\"_\")[0] for x in list(test_name)], columns=[\"city\"])\n",
    "names = names.merge(isov[[\"city\", \"developed\"]], on=\"city\", how=\"left\")\n",
    "idx_developed = names[names.developed==1].index.values\n",
    "\n",
    "test_img = test_img[idx_developed]\n",
    "test_mask = test_mask[idx_developed]\n",
    "\n",
    "\n",
    "with tf.device('/cpu:0'):  \n",
    "    ## Load U-net backbone\n",
    "    backbone_model = sm.Unet(\"efficientnetb4\", classes=9, encoder_weights=\"imagenet\", activation=\"softmax\")\n",
    "    # or if pregenerated\n",
    "    #backbone_model = keras.models.load_model(dir_ + \"u_net_models/model_u_%s_image_net_weights.hdf5\" %m)\n",
    "    \n",
    "    \n",
    "    ## Define loss    \n",
    "    focal_loss = sm.losses.CategoricalFocalLoss(class_indexes=[1,2,3,4,5,6,7,8])\n",
    "    jaccard_loss = sm.losses.JaccardLoss(class_indexes=[1,2,3,4,5,6,7,8])\n",
    "    \n",
    "    categorical_focal_jaccard_loss = focal_loss + jaccard_loss \n",
    "    \n",
    "\n",
    "    ## Define optimizer\n",
    "    optimizer = tfa.optimizers.AdamW(learning_rate=lr, weight_decay=decay)\n",
    "    \n",
    "    \n",
    "    ## Compile model\n",
    "    backbone_model.compile(optimizer=optimizer,\n",
    "                            loss=categorical_focal_jaccard_loss, \n",
    "                            metrics=metrics)\n",
    "    \n",
    "    \n",
    "    ## Load model weights\n",
    "    backbone_model.load_weights(dir_rs + \"Data_sets/image_segmentation/u_net_models_mc/u_net_%s\" %i)\n",
    "    \n",
    "\n",
    "## Make predictions on test data\n",
    "with tf.device('/gpu:0'):\n",
    "    pred_mask_CV5 = test_time_augmentation(test_img)\n",
    "        \n",
    "        \n",
    "## get model's performance\n",
    "with tf.device(\"/cpu:0\"):\n",
    "    IoU_CV5 = get_IoU_by_class(test_mask, np.array(pred_mask_CV5)[:,:,:,:], [1,2,3,4,5,6,7,8], n_classes)\n",
    "    F1_CV5 = get_F1score_by_class(test_mask, np.array(pred_mask_CV5)[:,:,:,:], [1,2,3,4,5,6,7,8], n_classes)\n",
    "    ACC_CV5 = get_ACC_by_class(test_mask, np.array(pred_mask_CV5)[:,:,:,:], [1,2,3,4,5,6,7,8], n_classes)"
   ]
  },
  {
   "cell_type": "code",
   "execution_count": 30,
   "id": "01d3b1bd-7ae4-4a10-ad9f-9a9532db0ea2",
   "metadata": {},
   "outputs": [],
   "source": [
    "accuracy_CV5, avg_conf_CV5, ECE_CV5, pred_conf_CV5, means_CV5 = model_calibration(pred_mask_CV5, test_mask)"
   ]
  },
  {
   "cell_type": "code",
   "execution_count": 31,
   "id": "a957f9df-cdac-4a33-bf96-8cf4074c91dd",
   "metadata": {},
   "outputs": [
    {
     "name": "stdout",
     "output_type": "stream",
     "text": [
      "Accuracy: 0.8300323072249725\n",
      "Avg. confidence: 0.9137926\n",
      "ECE: 8.375944377497316\n",
      "IoU: [0.804198351090275, 0.6061515389034867, 0.5930067755296459, 0.6994012693669056, 0.7630332832769517, 0.8696687667772606, 0.8966979169764752, 0.8296620338708437, 0.7577274919739805]\n",
      "F1: [0.8914744330674813, 0.7547874832748045, 0.744512559066115, 0.823114919323808, 0.8655914672906052, 0.9302918059397727, 0.9455358272401025, 0.9069019507560023, 0.8577763057448364]\n"
     ]
    }
   ],
   "source": [
    "print(\"Accuracy:\", accuracy_CV5)\n",
    "print(\"Avg. confidence:\", avg_conf_CV5)\n",
    "print(\"ECE:\", ECE_CV5)\n",
    "print(\"IoU:\", IoU_CV5)\n",
    "print(\"F1:\", F1_CV5)"
   ]
  },
  {
   "cell_type": "code",
   "execution_count": 103,
   "id": "46ce5cab-8bc6-4e0f-bf5f-d759453ad123",
   "metadata": {},
   "outputs": [
    {
     "data": {
      "image/png": "[encoded data removed]",
      "text/plain": [
       "<Figure size 360x360 with 1 Axes>"
      ]
     },
     "metadata": {
      "needs_background": "light"
     },
     "output_type": "display_data"
    }
   ],
   "source": [
    "plt.figure(figsize=(5, 5))\n",
    "plt.hist(pred_conf_CV5, bins=20, weights=np.ones_like(pred_conf_CV5)/len(pred_conf_CV5), color=\"blue\", edgecolor=\"gray\", alpha=0.8)\n",
    "plt.axvline(x=0.83, color=\"gray\", linestyle=\"dashed\")\n",
    "plt.text(0.79, 0.35, \"Accuracy\", fontsize=12, rotation=90)\n",
    "plt.axvline(x=0.91, color=\"gray\", linestyle=\"dashed\")\n",
    "plt.text(0.87, 0.35, \"Avg. confidence\", fontsize=12, rotation=90)           \n",
    "plt.xlim(0,1)\n",
    "plt.ylim(0,0.8)\n",
    "plt.ylabel(\"Proportion of samples\")\n",
    "plt.text(0.05, 0.72, 'Error=8.4', fontsize=12)\n",
    "plt.savefig(\"H:/Sebastian_Bahr/PhD/2_Publication/Crime_and_ML/Data_happiness/visualization/ECE_fold5.png\", dpi=600, facecolor=\"white\", bbox_inches=\"tight\")\n",
    "plt.show()"
   ]
  },
  {
   "cell_type": "markdown",
   "id": "d1516993-bda7-4093-a6f4-6be5c2295f30",
   "metadata": {},
   "source": [
    "#### Averaging model performance over folds"
   ]
  },
  {
   "cell_type": "markdown",
   "id": "758223c1-c0d8-41ba-bbcb-296d54096e04",
   "metadata": {},
   "source": [
    "##### IoU"
   ]
  },
  {
   "cell_type": "code",
   "execution_count": 34,
   "id": "1e8fc4b1-432e-4b80-8eaa-6643552692b8",
   "metadata": {},
   "outputs": [
    {
     "data": {
      "text/plain": [
       "[('bareland', 0.47184603626836774),\n",
       " ('rangeland', 0.549079296347061),\n",
       " ('developed space', 0.5470810802588156),\n",
       " ('road', 0.6481948105103618),\n",
       " ('tree', 0.7389604283943239),\n",
       " ('water', 0.8857056938769245),\n",
       " ('agriculture land', 0.8374603098677478),\n",
       " ('buildings', 0.8068147542405784),\n",
       " ('avg', 0.6856428012205225)]"
      ]
     },
     "execution_count": 34,
     "metadata": {},
     "output_type": "execute_result"
    }
   ],
   "source": [
    "#IoU score\n",
    "IoU_CV_avg = list(zip(IoU_CV1,IoU_CV2,IoU_CV3,IoU_CV4,IoU_CV5))\n",
    "list(zip([\"bareland\",\"rangeland\",\"developed space\",\"road\",\"tree\",\"water\",\"agriculture land\",\"buildings\",\"avg\"], [np.mean(x) for x in IoU_CV_avg]))"
   ]
  },
  {
   "cell_type": "code",
   "execution_count": 13,
   "id": "0d7ab9bc-dbab-4b2e-a1b3-ff0ce0639083",
   "metadata": {},
   "outputs": [
    {
     "data": {
      "text/plain": [
       "[('bareland', 0.9502014072575434),\n",
       " ('rangeland', 0.44377430496673925),\n",
       " ('developed space', 0.4752465762629391),\n",
       " ('road', 0.6086164978173594),\n",
       " ('tree', 0.6393185481280481),\n",
       " ('water', 0.7928210342907123),\n",
       " ('agriculture land', 0.8347602269015945),\n",
       " ('buildings', 0.7855056060040394),\n",
       " ('avg', 0.6912805252036219)]"
      ]
     },
     "execution_count": 13,
     "metadata": {},
     "output_type": "execute_result"
    }
   ],
   "source": [
    "#IoU score folds 2-5\n",
    "IoU_CV_avg = list(zip(IoU_CV2,IoU_CV3,IoU_CV4,IoU_CV5))\n",
    "list(zip([\"bareland\",\"rangeland\",\"developed space\",\"road\",\"tree\",\"water\",\"agriculture land\",\"buildings\",\"avg\"], [np.mean(x) for x in IoU_CV_avg]))"
   ]
  },
  {
   "cell_type": "code",
   "execution_count": 14,
   "id": "bab0bc30-6bd3-4f09-a846-32f3cb6982ae",
   "metadata": {},
   "outputs": [
    {
     "data": {
      "text/plain": [
       "[('bareland', 0.014280339719741963),\n",
       " ('rangeland', 0.02338270928106273),\n",
       " ('developed space', 0.03419755698270416),\n",
       " ('road', 0.027320235837037576),\n",
       " ('tree', 0.026341102908355674),\n",
       " ('water', 0.012286401619607812),\n",
       " ('agriculture land', 0.0331053842530743),\n",
       " ('buildings', 0.008824661415853141),\n",
       " ('avg', 0.011805546917378118)]"
      ]
     },
     "execution_count": 14,
     "metadata": {},
     "output_type": "execute_result"
    }
   ],
   "source": [
    "# deviation from mean\n",
    "list(zip([\"bareland\",\"rangeland\",\"developed space\",\"road\",\"tree\",\"water\",\"agriculture land\",\"buildings\",\"avg\"], [np.mean(x)-np.min(x) for x in IoU_CV_avg]))"
   ]
  },
  {
   "cell_type": "markdown",
   "id": "2a791ba5-1430-4859-87f6-c70afd09e8fe",
   "metadata": {},
   "source": [
    "##### F1 score"
   ]
  },
  {
   "cell_type": "code",
   "execution_count": 16,
   "id": "8a1921c6-9393-4474-b50f-e5d015b1797e",
   "metadata": {},
   "outputs": [
    {
     "data": {
      "text/plain": [
       "[('bareland', 0.9494025653722711),\n",
       " ('rangeland', 0.566684371713878),\n",
       " ('developed space', 0.603073590819837),\n",
       " ('road', 0.7130903738107237),\n",
       " ('tree', 0.7553686619924316),\n",
       " ('water', 0.8066785294096297),\n",
       " ('agriculture land', 0.8596314687937031),\n",
       " ('buildings', 0.8540838205336637),\n",
       " ('avg', 0.7635016728057672)]"
      ]
     },
     "execution_count": 16,
     "metadata": {},
     "output_type": "execute_result"
    }
   ],
   "source": [
    "# F1 score\n",
    "F1_CV_avg = list(zip(F1_CV1,F1_CV2,F1_CV3,F1_CV4,F1_CV5))\n",
    "list(zip([\"bareland\",\"rangeland\",\"developed space\",\"road\",\"tree\",\"water\",\"agriculture land\",\"buildings\",\"avg\"], [np.mean(x) for x in F1_CV_avg]))"
   ]
  },
  {
   "cell_type": "code",
   "execution_count": 17,
   "id": "6c5df754-924f-4b8d-ab44-51a15352e406",
   "metadata": {},
   "outputs": [
    {
     "data": {
      "text/plain": [
       "[('bareland', 0.9526169339982075),\n",
       " ('rangeland', 0.5719753725375197),\n",
       " ('developed space', 0.6029597171219933),\n",
       " ('road', 0.7157827117176134),\n",
       " ('tree', 0.7546099487556824),\n",
       " ('water', 0.8089150282653198),\n",
       " ('agriculture land', 0.8584468904235151),\n",
       " ('buildings', 0.8597262672795412),\n",
       " ('avg', 0.7656291087624241)]"
      ]
     },
     "execution_count": 17,
     "metadata": {},
     "output_type": "execute_result"
    }
   ],
   "source": [
    "# F1 score folds 2-5\n",
    "F1_CV_avg = list(zip(F1_CV2,F1_CV3,F1_CV4,F1_CV5))\n",
    "list(zip([\"bareland\",\"rangeland\",\"developed space\",\"road\",\"tree\",\"water\",\"agriculture land\",\"buildings\",\"avg\"], [np.mean(x) for x in F1_CV_avg]))"
   ]
  },
  {
   "cell_type": "code",
   "execution_count": 18,
   "id": "8fab7ce7-82df-4bd8-9d08-20e2e302554a",
   "metadata": {},
   "outputs": [
    {
     "data": {
      "text/plain": [
       "[('bareland', 0.013916663013997854),\n",
       " ('rangeland', 0.020938654766556986),\n",
       " ('developed space', 0.03409791758360692),\n",
       " ('road', 0.025404405174559552),\n",
       " ('tree', 0.02339845355983683),\n",
       " ('water', 0.013681487033433193),\n",
       " ('agriculture land', 0.02909570482289492),\n",
       " ('buildings', 0.006048723534471279),\n",
       " ('avg', 0.011750601215060996)]"
      ]
     },
     "execution_count": 18,
     "metadata": {},
     "output_type": "execute_result"
    }
   ],
   "source": [
    "# deviation from mean\n",
    "list(zip([\"bareland\",\"rangeland\",\"developed space\",\"road\",\"tree\",\"water\",\"agriculture land\",\"buildings\",\"avg\"], [np.mean(x)-np.min(x) for x in F1_CV_avg]))"
   ]
  },
  {
   "cell_type": "markdown",
   "id": "1939180b-104c-43a3-8c54-db1ba497fdf0",
   "metadata": {},
   "source": [
    "##### Accuracy"
   ]
  },
  {
   "cell_type": "code",
   "execution_count": 19,
   "id": "125dfe3d-a5ff-49d0-a9aa-ef9f04c7c5bc",
   "metadata": {},
   "outputs": [
    {
     "data": {
      "text/plain": [
       "[('bareland', 0.9969598),\n",
       " ('rangeland', 0.88874626),\n",
       " ('developed space', 0.8952929),\n",
       " ('road', 0.96554106),\n",
       " ('tree', 0.9449026),\n",
       " ('water', 0.9965785),\n",
       " ('agriculture land', 0.97205544),\n",
       " ('buildings', 0.96441114),\n",
       " ('avg', 0.9530609592795372)]"
      ]
     },
     "execution_count": 19,
     "metadata": {},
     "output_type": "execute_result"
    }
   ],
   "source": [
    "# Accuracy score\n",
    "ACC_CV_avg = list(zip(ACC_CV1,ACC_CV2,ACC_CV3,ACC_CV4,ACC_CV5))\n",
    "list(zip([\"bareland\",\"rangeland\",\"developed space\",\"road\",\"tree\",\"water\",\"agriculture land\",\"buildings\",\"avg\"], [np.mean(x) for x in ACC_CV_avg]))"
   ]
  },
  {
   "cell_type": "code",
   "execution_count": 20,
   "id": "5d110095-9699-45d0-bc42-6f1553a58666",
   "metadata": {},
   "outputs": [
    {
     "data": {
      "text/plain": [
       "[('bareland', 0.99704856),\n",
       " ('rangeland', 0.8910179),\n",
       " ('developed space', 0.8948277),\n",
       " ('road', 0.9656808),\n",
       " ('tree', 0.94538033),\n",
       " ('water', 0.9966207),\n",
       " ('agriculture land', 0.97252905),\n",
       " ('buildings', 0.96468526),\n",
       " ('avg', 0.9534737952053547)]"
      ]
     },
     "execution_count": 20,
     "metadata": {},
     "output_type": "execute_result"
    }
   ],
   "source": [
    "# Accuracy score folds 2-5\n",
    "ACC_CV_avg = list(zip(ACC_CV2,ACC_CV3,ACC_CV4,ACC_CV5))\n",
    "list(zip([\"bareland\",\"rangeland\",\"developed space\",\"road\",\"tree\",\"water\",\"agriculture land\",\"buildings\",\"avg\"], [np.mean(x) for x in ACC_CV_avg]))"
   ]
  },
  {
   "cell_type": "code",
   "execution_count": 21,
   "id": "09f3bcb3-018a-4cfb-884c-224e3ca2eebd",
   "metadata": {},
   "outputs": [
    {
     "data": {
      "text/plain": [
       "[('bareland', 0.0025553703),\n",
       " ('rangeland', 0.014505506),\n",
       " ('developed space', 0.009153664),\n",
       " ('road', 0.0027018785),\n",
       " ('tree', 0.0029185414),\n",
       " ('water', 0.0006790161),\n",
       " ('agriculture land', 0.0048110485),\n",
       " ('buildings', 0.0021551847),\n",
       " ('avg', 0.0030715949833393097)]"
      ]
     },
     "execution_count": 21,
     "metadata": {},
     "output_type": "execute_result"
    }
   ],
   "source": [
    "# deviation from mean\n",
    "list(zip([\"bareland\",\"rangeland\",\"developed space\",\"road\",\"tree\",\"water\",\"agriculture land\",\"buildings\",\"avg\"], [np.mean(x)-np.min(x) for x in ACC_CV_avg]))"
   ]
  },
  {
   "cell_type": "markdown",
   "id": "eacc07eb-0ef4-4d7c-9747-23f50db7948a",
   "metadata": {},
   "source": [
    "=> proceed with file ```segmentation_CH.ipynb```"
   ]
  }
 ],
 "metadata": {
  "kernelspec": {
   "display_name": "Python 3 (ipykernel)",
   "language": "python",
   "name": "python3"
  },
  "language_info": {
   "codemirror_mode": {
    "name": "ipython",
    "version": 3
   },
   "file_extension": ".py",
   "mimetype": "text/x-python",
   "name": "python",
   "nbconvert_exporter": "python",
   "pygments_lexer": "ipython3",
   "version": "3.9.12"
  }
 },
 "nbformat": 4,
 "nbformat_minor": 5
}
